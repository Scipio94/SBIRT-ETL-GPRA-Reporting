{
 "cells": [
  {
   "cell_type": "markdown",
   "id": "2498c9fd",
   "metadata": {},
   "source": [
    "# SBIRT GRPA Coding\n",
    "\n",
    "Goverment Perfromance and Results Act (GPRA) coding for intake data of recovery specialist for the Institure for Prevention and Recovery (IFPR) at RWJ Baranabas"
   ]
  },
  {
   "cell_type": "code",
   "execution_count": 1,
   "id": "7e487610",
   "metadata": {},
   "outputs": [],
   "source": [
    "#importing pandas\n",
    "import pandas as pd\n",
    "import numpy as np"
   ]
  },
  {
   "cell_type": "code",
   "execution_count": 2,
   "id": "e9ffe513",
   "metadata": {},
   "outputs": [],
   "source": [
    "# importing data and parsing datetime columns\n",
    "df = pd.read_csv(r\"\\\\cdchomedir01\\home1\\tyogarro\\GPRA\\SBIRT_GPRA_Coding_File.csv\", parse_dates = ['ADMIT_DT','FORM_DTTM',\n",
    "                                                                                                'FORM_UPDATE_DTTM','DOB'])\n",
    "\n",
    "\n",
    "#subsetting to include Peer Recovery Program episodes\n",
    "df = df[df['EPISODE'] =='IFPR - SBIRT'].sort_values(by = ['FORM_DTTM','MRN']) # <- sorting df"
   ]
  },
  {
   "cell_type": "code",
   "execution_count": 3,
   "id": "99811654",
   "metadata": {},
   "outputs": [],
   "source": [
    "#Renaming column to create ClientID\n",
    "df.rename(columns = {'CSN':'ClientID'}, inplace = True)"
   ]
  },
  {
   "cell_type": "code",
   "execution_count": 4,
   "id": "33cb0033",
   "metadata": {},
   "outputs": [],
   "source": [
    "#Inserting BatchID columns\n",
    "df['BatchID'] = ''"
   ]
  },
  {
   "cell_type": "code",
   "execution_count": 5,
   "id": "b8898934",
   "metadata": {},
   "outputs": [],
   "source": [
    "#function for days columns that exceed 30 days\n",
    "def exceed_thirty_days(x):\n",
    "    if x > 30:\n",
    "        return 30\n",
    "    else:\n",
    "        return x"
   ]
  },
  {
   "cell_type": "markdown",
   "id": "26d1cbf3",
   "metadata": {},
   "source": [
    "## Creating GPRA 1"
   ]
  },
  {
   "cell_type": "code",
   "execution_count": 6,
   "id": "4ec68be5",
   "metadata": {},
   "outputs": [],
   "source": [
    "#Creating function to create column ClientDescripTreat\n",
    "def Client_Descrip_Treat (x):\n",
    "    if x == 'Treatment grant client':\n",
    "        return 1\n",
    "    else:\n",
    "        return 0 \n",
    "    \n",
    "#Creating column ClientDescripTreat via applying function Client_Descrip_Treat\n",
    "df['ClientDescripTreat'] = df['CLIENT_TYPE'].apply(lambda x: Client_Descrip_Treat (x))"
   ]
  },
  {
   "cell_type": "code",
   "execution_count": 7,
   "id": "68727178",
   "metadata": {},
   "outputs": [],
   "source": [
    "#Creating function to create column ClientDescripRecov\n",
    "def Client_Descrip_Recov (x):\n",
    "    if x == 'Client in recovery grant':\n",
    "        return 1\n",
    "    else:\n",
    "        return 0\n",
    "    \n",
    "#Creating column ClientDescripRecov via applying function Client_Descrip_Recov\n",
    "df['ClientDescripRecov'] = df['CLIENT_TYPE'].apply(lambda x: Client_Descrip_Recov (x))"
   ]
  },
  {
   "cell_type": "code",
   "execution_count": 8,
   "id": "ee7222f0",
   "metadata": {},
   "outputs": [],
   "source": [
    "#Creating column GrantNo column\n",
    "df['GrantNo'] = 'TI084061'"
   ]
  },
  {
   "cell_type": "code",
   "execution_count": 9,
   "id": "4ce7a70d",
   "metadata": {},
   "outputs": [],
   "source": [
    "#Creating function for interview type\n",
    "def interview_type_code(row):\n",
    "    if row['INTERVIEW_TYPE'] == 'Intake':\n",
    "        return 1\n",
    "    elif row['INTERVIEW_TYPE'] == '6-month follow-up':\n",
    "        return 2\n",
    "    elif row['INTERVIEW_TYPE'] == '3-month follow-up':\n",
    "        return 4\n",
    "    elif row['INTERVIEW_TYPE'] == 'Discharge':\n",
    "        return 5\n",
    "    \n",
    "#Creating new column via applying interview_type_code function to values in interview type column\n",
    "df['InterviewType'] = df.apply(interview_type_code, axis = 1)"
   ]
  },
  {
   "cell_type": "code",
   "execution_count": 10,
   "id": "0e9123d7",
   "metadata": {},
   "outputs": [],
   "source": [
    "#Creating function for conducted interview\n",
    "def conducted_interview(x):\n",
    "    if x == '6-month follow-up' or x == '3-month follow-up' or x == 'Discharge' or x == 'Intake':\n",
    "        return 1\n",
    "    else:\n",
    "        return 0\n",
    "    \n",
    "# Creating a new column via applying the conducted_interview function to the values in the interview type column\n",
    "df['ConductedInterview'] = df['INTERVIEW_TYPE'].apply(lambda x: conducted_interview(x))"
   ]
  },
  {
   "cell_type": "code",
   "execution_count": 11,
   "id": "8fe7a169",
   "metadata": {},
   "outputs": [],
   "source": [
    "#Renaming column to InterviewDate and changing data type to output in the format MM/DD/YYYY\n",
    "df['InterviewDate'] = df['FORM_DTTM'].dt.strftime('%m/%d/%Y')\n",
    "\n",
    "def conducted_interview_code(row):\n",
    "    if row['ConductedInterview'] ==1:\n",
    "        return row['InterviewDate']\n",
    "    else:\n",
    "        pass\n",
    "    \n",
    "df['InterviewDate'] = df.apply(conducted_interview_code,axis=1)"
   ]
  },
  {
   "cell_type": "code",
   "execution_count": 12,
   "id": "ff92d532",
   "metadata": {},
   "outputs": [],
   "source": [
    "# Rolling Count to create IntakeSeqNum column\n",
    "df['IntakeSeqNum'] = df.groupby('MRN')['ADMIT_DT'].cumcount() + 1 # <- rolling count +1 to start count at 1"
   ]
  },
  {
   "cell_type": "code",
   "execution_count": 13,
   "id": "4ce98c6d",
   "metadata": {},
   "outputs": [],
   "source": [
    "#Creating InactFlag Column\n",
    "df['MRN_CNT'] = df.groupby(['PATIENT'])['MRN'].transform('count') # <- will return count of MRN the length of df\n",
    "df['MAX_ADMIT_DT'] = df.groupby(['PATIENT'])['ADMIT_DT'].transform('max') # <- will return MAX ADMIT_DT the length of df\n",
    "\n",
    "# Function across multiple columns\n",
    "def inactflag (row):\n",
    "    if row['MRN_CNT'] == 1:\n",
    "        return 0\n",
    "    elif row['MRN_CNT'] > 1 and row['ADMIT_DT'] == row['MAX_ADMIT_DT']:\n",
    "        return 0\n",
    "    else:\n",
    "        return 1\n",
    "df['InactFlag'] = df.apply(inactflag, axis =1 ) # <- axis 1 will apply function across columns "
   ]
  },
  {
   "cell_type": "code",
   "execution_count": 14,
   "id": "ae9c0564",
   "metadata": {},
   "outputs": [
    {
     "data": {
      "text/plain": [
       "array([0, 1], dtype=int64)"
      ]
     },
     "execution_count": 14,
     "metadata": {},
     "output_type": "execute_result"
    }
   ],
   "source": [
    "df['InactFlag'].unique()"
   ]
  },
  {
   "cell_type": "code",
   "execution_count": 15,
   "id": "ea450fcf",
   "metadata": {},
   "outputs": [],
   "source": [
    "# Assigning 0 for active grants\n",
    "df['GrantInactFlag'] = 0"
   ]
  },
  {
   "cell_type": "code",
   "execution_count": 16,
   "id": "437da9c0",
   "metadata": {},
   "outputs": [],
   "source": [
    "#Extracting year from ADMIT_DT to create column FFY\n",
    "df['FFY'] = df['FORM_DTTM'].dt.year\n",
    "\n",
    "#Extracting year from ADMIT_DT to create column Month\n",
    "df['Month'] =  df['FORM_DTTM'].dt.month\n",
    "\n",
    "#Extracting year from ADMIT_DT to create column Quarter\n",
    "\n",
    "#Creating a function for Quarter\n",
    "def year_qt (row):\n",
    "    if row['Month'] in [10,11,12]: # <- in kwarg that references a list \n",
    "        return 1\n",
    "    elif row['Month'] in [1,2,3]:\n",
    "        return 2\n",
    "    elif row['Month'] in [4,5,6]:\n",
    "        return 3\n",
    "    elif row['Month'] in [7,8,9]:\n",
    "        return 4    \n",
    "\n",
    "df['Quarter'] =  df.apply(year_qt, axis = 1)\n",
    "\n",
    "# Convering DOB to datetime format\n",
    "df['DOB'] = pd.to_datetime(df['DOB'])\n",
    "\n",
    "\n",
    "#BirthMonth\n",
    "df['BirthMonth'] = df['DOB'].dt.month\n",
    "\n",
    "#BirthYear\n",
    "df['BirthYear'] = df['DOB'].dt.year\n",
    "\n",
    "#Age\n",
    "df['Age'] = df['FFY'] - df['BirthYear']\n",
    "\n",
    "\n",
    "#AgeGroup\n",
    "def age_group(row):# <- creating conditions for intake\n",
    "    if row['Age'] >= 18 and row['Age'] < 25:\n",
    "        return 1\n",
    "    elif row['Age'] >= 25 and row['Age'] < 35:\n",
    "        return 3\n",
    "    elif row['Age'] >= 35 and row['Age'] < 45:\n",
    "        return 4\n",
    "    elif  row['Age'] >= 45 and row['Age'] < 55:\n",
    "        return 5\n",
    "    elif row['Age'] >=55 and row['Age'] < 65:\n",
    "        return 6\n",
    "    elif row['Age'] >= 65:\n",
    "        return 7\n",
    "    else:\n",
    "        return -9\n",
    "    \n",
    "df['AgeGroup'] = df.apply(age_group,axis=1)"
   ]
  },
  {
   "cell_type": "code",
   "execution_count": 17,
   "id": "0bd4cce1",
   "metadata": {},
   "outputs": [],
   "source": [
    "#Creating function for gender code \n",
    "def gender_code(row):\n",
    "    if row['GENDER'] == 'Male':\n",
    "        return 1\n",
    "    elif row['GENDER'] == 'Female':\n",
    "        return 2\n",
    "    else:\n",
    "        return 7\n",
    "    \n",
    "df['Gender'] = df.apply(gender_code,axis=1)\n",
    "\n",
    "#Renaming column to create column GenderSpec\n",
    "df.rename(columns = {'WHAT_DO_YOU_CONSIDER_YOURSELF_TO_BE_OTHER':'GenderSpec'}, inplace = True)"
   ]
  },
  {
   "cell_type": "code",
   "execution_count": 18,
   "id": "55d830e4",
   "metadata": {},
   "outputs": [],
   "source": [
    "#Creating a function for HispanicLatino Column\n",
    "def Hispanic_Latino (row):\n",
    "    if row['HISPANIC_LATIN_SPANISH_ORIGIN'] == 'Yes':\n",
    "        return 1\n",
    "    elif row['HISPANIC_LATIN_SPANISH_ORIGIN'] == 'No (Skip to Question 3)':\n",
    "        return 0\n",
    "    elif  row['HISPANIC_LATIN_SPANISH_ORIGIN'] == 'REFUSED (Skip to Question 3)':\n",
    "        return -7\n",
    "    else:\n",
    "        return -9\n",
    "\n",
    "    \n",
    "df['HispanicLatino'] = df.apply(Hispanic_Latino,axis=1)"
   ]
  },
  {
   "cell_type": "code",
   "execution_count": 19,
   "id": "cb19774c",
   "metadata": {},
   "outputs": [],
   "source": [
    "#Inputing 'NaN' for missing values in the WHAT_ETHNIC_GROUP_DO_YOU_CONSIDER_YOURSELF column\n",
    "df['WHAT_ETHNIC_GROUP_DO_YOU_CONSIDER_YOURSELF'] = df['WHAT_ETHNIC_GROUP_DO_YOU_CONSIDER_YOURSELF'].fillna('NaN')\n",
    "\n",
    "#Creating substrings\n",
    "df['WHAT_ETHNIC_GROUP_DO_YOU_CONSIDER_YOURSELF'] = df['WHAT_ETHNIC_GROUP_DO_YOU_CONSIDER_YOURSELF'].str.split(',').str[0]\n",
    "\n",
    "#Creating a function for column EthnicCentranAmerican\n",
    "def Central_American(row):\n",
    "    if row['WHAT_ETHNIC_GROUP_DO_YOU_CONSIDER_YOURSELF'] == 'Central American':\n",
    "        return 1\n",
    "    elif row['WHAT_ETHNIC_GROUP_DO_YOU_CONSIDER_YOURSELF'] ==  'REFUSED':\n",
    "        return -7\n",
    "    elif row['WHAT_ETHNIC_GROUP_DO_YOU_CONSIDER_YOURSELF'] == 'NaN':\n",
    "        return -1\n",
    "    else:\n",
    "        return 0\n",
    "\n",
    "\n",
    "df['EthnicCentralAmerican'] = df.apply(Central_American,axis=1)"
   ]
  },
  {
   "cell_type": "code",
   "execution_count": 20,
   "id": "54328cb3",
   "metadata": {},
   "outputs": [],
   "source": [
    "#Creating a function for column EthnicCuban\n",
    "def Cuban(row):\n",
    "    if row['WHAT_ETHNIC_GROUP_DO_YOU_CONSIDER_YOURSELF'] == 'Cuban':\n",
    "        return 1\n",
    "    elif row['WHAT_ETHNIC_GROUP_DO_YOU_CONSIDER_YOURSELF'] ==  'REFUSED':\n",
    "        return -7\n",
    "    elif row['WHAT_ETHNIC_GROUP_DO_YOU_CONSIDER_YOURSELF'] == 'NaN':\n",
    "        return -1\n",
    "    else:\n",
    "        return 0\n",
    "    \n",
    "\n",
    "df['EthnicCuban'] = df.apply(Cuban,axis=1)"
   ]
  },
  {
   "cell_type": "code",
   "execution_count": 21,
   "id": "51a22a1c",
   "metadata": {},
   "outputs": [],
   "source": [
    "#Creating a function for column EthnicDominican\n",
    "def DR(row):\n",
    "    if row['WHAT_ETHNIC_GROUP_DO_YOU_CONSIDER_YOURSELF'] == 'Dominican':\n",
    "        return 1\n",
    "    elif row['WHAT_ETHNIC_GROUP_DO_YOU_CONSIDER_YOURSELF'] ==  'REFUSED':\n",
    "        return -7\n",
    "    elif row['WHAT_ETHNIC_GROUP_DO_YOU_CONSIDER_YOURSELF'] == 'NaN':\n",
    "        return -1\n",
    "    else:\n",
    "        return 0\n",
    "\n",
    "\n",
    "df['EthnicDominican'] = df.apply(DR,axis=1)"
   ]
  },
  {
   "cell_type": "code",
   "execution_count": 22,
   "id": "4f5f34d5",
   "metadata": {},
   "outputs": [],
   "source": [
    " #Creating a function for column EthnicMexican\n",
    "def Mexican(row):\n",
    "    if row['WHAT_ETHNIC_GROUP_DO_YOU_CONSIDER_YOURSELF'] == 'Mexican':\n",
    "        return 1\n",
    "    elif row['WHAT_ETHNIC_GROUP_DO_YOU_CONSIDER_YOURSELF'] ==  'REFUSED':\n",
    "        return -7\n",
    "    elif row['WHAT_ETHNIC_GROUP_DO_YOU_CONSIDER_YOURSELF'] == 'NaN':\n",
    "        return -1\n",
    "    else:\n",
    "        return 0\n",
    "\n",
    "\n",
    "df['EthnicMexican'] = df.apply(Mexican,axis=1)"
   ]
  },
  {
   "cell_type": "code",
   "execution_count": 23,
   "id": "11db9b1e",
   "metadata": {},
   "outputs": [],
   "source": [
    "#Creating a function for column EthnicPuertoRican\n",
    "def PR(row):\n",
    "    if row['WHAT_ETHNIC_GROUP_DO_YOU_CONSIDER_YOURSELF'] == 'Puerto Rican':\n",
    "        return 1\n",
    "    elif row['WHAT_ETHNIC_GROUP_DO_YOU_CONSIDER_YOURSELF'] ==  'REFUSED':\n",
    "        return -7\n",
    "    elif row['WHAT_ETHNIC_GROUP_DO_YOU_CONSIDER_YOURSELF'] == 'NaN':\n",
    "        return -1\n",
    "    else:\n",
    "        return 0\n",
    "    \n",
    "df['EthnicPuertoRican'] =  df.apply(PR,axis=1)"
   ]
  },
  {
   "cell_type": "code",
   "execution_count": 24,
   "id": "d2c39227",
   "metadata": {},
   "outputs": [],
   "source": [
    "#Creating a function for column EthnicSouthAmerican\n",
    "def South_America(row):\n",
    "    if row['WHAT_ETHNIC_GROUP_DO_YOU_CONSIDER_YOURSELF'] == 'South American':\n",
    "        return 1\n",
    "    elif row['WHAT_ETHNIC_GROUP_DO_YOU_CONSIDER_YOURSELF'] ==  'REFUSED':\n",
    "        return -7\n",
    "    elif row['WHAT_ETHNIC_GROUP_DO_YOU_CONSIDER_YOURSELF'] == 'NaN':\n",
    "        return -1\n",
    "    else:\n",
    "        return 0\n",
    "    \n",
    "df['EthnicSouthAmerican'] = df.apply(South_America,axis=1)    "
   ]
  },
  {
   "cell_type": "code",
   "execution_count": 25,
   "id": "1d9df76f",
   "metadata": {},
   "outputs": [],
   "source": [
    "#Creating a function for column EthnicOther\n",
    "def Ethnic_Other(row):\n",
    "    if row['WHAT_ETHNIC_GROUP_DO_YOU_CONSIDER_YOURSELF'] == 'Other (SPECIFY)':\n",
    "        return 1\n",
    "    elif row['WHAT_ETHNIC_GROUP_DO_YOU_CONSIDER_YOURSELF'] ==  'REFUSED':\n",
    "        return -7\n",
    "    elif row['WHAT_ETHNIC_GROUP_DO_YOU_CONSIDER_YOURSELF'] == 'NaN':\n",
    "        return -1\n",
    "    else:\n",
    "        return 0\n",
    "    \n",
    "\n",
    "df['EthnicOther'] = df.apply(Ethnic_Other,axis=1)\n",
    "\n",
    "#Renaming column\n",
    "df.rename(columns = {'ETHNIC_GROUP_OTHER':'EthnicOtherSpec'}, inplace = True)"
   ]
  },
  {
   "cell_type": "code",
   "execution_count": 26,
   "id": "930ceb4c",
   "metadata": {},
   "outputs": [],
   "source": [
    "#Fill null values with 'NaN' in the Race column\n",
    "df['RACE'] = df['RACE'].fillna('NaN')\n",
    "\n",
    "#Creating substrings \n",
    "df['RACE'] = df['RACE'].str.split(',').str[0]\n",
    "\n",
    "#Creating function for column RaceBlack\n",
    "def Race_Black(row):\n",
    "    if row['RACE'] == 'Black or African American':\n",
    "        return 1\n",
    "    elif row['RACE'] == 'NaN':\n",
    "        return -9\n",
    "    elif row['RACE'] == 'REFUSED':\n",
    "        return -7\n",
    "    elif row['RACE'] == 'Other (SPECIFY), REFUSED':\n",
    "        return -7\n",
    "    else:\n",
    "        return 0\n",
    "    \n",
    "df['RaceBlack'] = df.apply(Race_Black,axis=1)"
   ]
  },
  {
   "cell_type": "code",
   "execution_count": 27,
   "id": "758f16b2",
   "metadata": {},
   "outputs": [],
   "source": [
    "#Creating function for column RaceWhite\n",
    "def Race_White(row):\n",
    "    if row['RACE'] == 'White':\n",
    "        return 1\n",
    "    elif row['RACE'] == 'NaN':\n",
    "        return -9\n",
    "    elif row['RACE'] == 'REFUSED':\n",
    "        return -7\n",
    "    else:\n",
    "        return 0\n",
    "\n",
    "df['RaceWhite'] = df.apply(Race_White,axis=1)"
   ]
  },
  {
   "cell_type": "code",
   "execution_count": 28,
   "id": "809ce5ca",
   "metadata": {},
   "outputs": [],
   "source": [
    "#Creating function for column RaceAmericanIndian\n",
    "def Race_Am_Indian(row):\n",
    "    if row['RACE'] == 'American Indian':\n",
    "        return 1\n",
    "    elif row['RACE'] == 'NaN':\n",
    "        return -9\n",
    "    elif row['RACE'] == 'REFUSED':\n",
    "        return -7\n",
    "    else:\n",
    "        return 0\n",
    "\n",
    "    \n",
    "df['RaceAmericanIndian'] = df.apply(Race_Am_Indian,axis=1) "
   ]
  },
  {
   "cell_type": "code",
   "execution_count": 29,
   "id": "6975c779",
   "metadata": {},
   "outputs": [],
   "source": [
    "#Creating function for column RaceAlaskaNative\n",
    "def Race_Alaska_Native(row):\n",
    "    if row['RACE'] == 'Alaska Native':\n",
    "        return 1\n",
    "    elif row['RACE'] == 'NaN':\n",
    "        return -9\n",
    "    elif row['RACE'] == 'REFUSED':\n",
    "        return -7\n",
    "    else:\n",
    "        return 0\n",
    "    \n",
    "    \n",
    "df['RaceAlaskaNative'] = df.apply(Race_Alaska_Native,axis=1)"
   ]
  },
  {
   "cell_type": "code",
   "execution_count": 30,
   "id": "b8b2437b",
   "metadata": {},
   "outputs": [
    {
     "data": {
      "text/plain": [
       "12   -9\n",
       "10   -9\n",
       "9    -9\n",
       "8    -9\n",
       "5    -9\n",
       "11   -9\n",
       "0    -9\n",
       "7    -9\n",
       "4    -9\n",
       "14   -9\n",
       "13   -9\n",
       "2    -9\n",
       "3    -9\n",
       "1    -9\n",
       "6    -9\n",
       "Name: RaceAlaskaNative, dtype: int64"
      ]
     },
     "execution_count": 30,
     "metadata": {},
     "output_type": "execute_result"
    }
   ],
   "source": [
    "df['RaceAlaskaNative']"
   ]
  },
  {
   "cell_type": "code",
   "execution_count": 31,
   "id": "a8bad605",
   "metadata": {},
   "outputs": [],
   "source": [
    "#Creating function for column RaceAsianIndian\n",
    "def Race_Asian_Indian(row):\n",
    "    if row['RACE']== 'Asian Indian':\n",
    "        return 1\n",
    "    elif row['RACE']== 'NaN':\n",
    "        return -9\n",
    "    elif row['RACE']== 'REFUSED':\n",
    "        return -7\n",
    "    else:\n",
    "        return 0\n",
    "    \n",
    "    \n",
    "df['RaceAsianIndian'] = df.apply(Race_Asian_Indian,axis=1) "
   ]
  },
  {
   "cell_type": "code",
   "execution_count": 32,
   "id": "4e081258",
   "metadata": {},
   "outputs": [],
   "source": [
    "#Creating function for column RaceChinese\n",
    "def Race_Chinese(row):\n",
    "    if row['RACE'] == 'Chinese':\n",
    "        return 1\n",
    "    elif row['RACE'] == 'NaN':\n",
    "        return -9\n",
    "    elif row['RACE'] == 'REFUSED':\n",
    "        return -7\n",
    "    else:\n",
    "        return 0\n",
    "\n",
    "    \n",
    "df['RaceChinese'] = df.apply(Race_Chinese,axis=1)"
   ]
  },
  {
   "cell_type": "code",
   "execution_count": 33,
   "id": "996c5a72",
   "metadata": {},
   "outputs": [],
   "source": [
    "#Creating function for column RaceFilipino\n",
    "def Race_Filipino(row):\n",
    "    if row['RACE'] == 'Filipino':\n",
    "        return 1\n",
    "    elif row['RACE'] == 'NaN':\n",
    "        return -9\n",
    "    elif row['RACE'] == 'REFUSED':\n",
    "        return -7\n",
    "    else:\n",
    "        return 0\n",
    "\n",
    "\n",
    "df['RaceFilipino'] = df.apply(Race_Filipino,axis=1)"
   ]
  },
  {
   "cell_type": "code",
   "execution_count": 34,
   "id": "721d29da",
   "metadata": {},
   "outputs": [],
   "source": [
    "#Creating function for column RaceJapanese\n",
    "def Race_Japanese(row):\n",
    "    if row['RACE'] == 'Japanese':\n",
    "        return 1\n",
    "    elif row['RACE'] == 'NaN':\n",
    "        return -9\n",
    "    elif row['RACE'] == 'REFUSED':\n",
    "        return -7\n",
    "    else:\n",
    "        return 0\n",
    "    \n",
    "    \n",
    "df['RaceJapanese'] = df.apply(Race_Japanese,axis=1)"
   ]
  },
  {
   "cell_type": "code",
   "execution_count": 35,
   "id": "f5f6eb4f",
   "metadata": {},
   "outputs": [],
   "source": [
    "#Creating function for column RaceKorean\n",
    "def Race_Korean(row):\n",
    "    if row['RACE'] == 'Korean':\n",
    "        return 1\n",
    "    elif row['RACE'] == 'NaN':\n",
    "        return -9\n",
    "    elif row['RACE'] == 'REFUSED':\n",
    "        return -7\n",
    "    else:\n",
    "        return 0\n",
    "    \n",
    "    \n",
    "df['RaceKorean'] = df.apply(Race_Korean,axis=1)"
   ]
  },
  {
   "cell_type": "code",
   "execution_count": 36,
   "id": "80b6ec5c",
   "metadata": {},
   "outputs": [],
   "source": [
    "#Creating function for column RaceVietnamese\n",
    "def Race_Vietnamese(row):\n",
    "    if row['RACE'] == 'Vietnamese':\n",
    "        return 1\n",
    "    elif row['RACE'] == 'NaN':\n",
    "        return -9\n",
    "    elif row['RACE'] == 'REFUSED':\n",
    "        return -7\n",
    "    else:\n",
    "        return 0\n",
    "\n",
    "    \n",
    "df['RaceVietnamese'] = df.apply(Race_Vietnamese,axis=1)"
   ]
  },
  {
   "cell_type": "code",
   "execution_count": 37,
   "id": "b4675059",
   "metadata": {},
   "outputs": [],
   "source": [
    "#Creating function for column RaceOtherAsian\n",
    "def Race_Other_Asian(row):\n",
    "    if row['RACE'] == 'Other Asian':\n",
    "        return 1\n",
    "    elif row['RACE'] == 'NaN':\n",
    "        return -9\n",
    "    elif row['RACE'] == 'REFUSED':\n",
    "        return -7\n",
    "    else:\n",
    "        return 0\n",
    "\n",
    "    \n",
    "df['RaceOtherAsian'] = df.apply(Race_Other_Asian,axis=1) "
   ]
  },
  {
   "cell_type": "code",
   "execution_count": 38,
   "id": "5eaed300",
   "metadata": {},
   "outputs": [],
   "source": [
    "#Creating function for column RaceNativeHawaiian\n",
    "def Race_Hawaiian(row):\n",
    "    if row['RACE'] == 'Hawaiian':\n",
    "        return 1\n",
    "    elif row['RACE'] == 'NaN':\n",
    "        return -9\n",
    "    elif row['RACE'] == 'REFUSED':\n",
    "        return -7\n",
    "    else:\n",
    "        return 0\n",
    "\n",
    "df['RaceNativeHawaiian'] = df.apply(Race_Hawaiian,axis=1)"
   ]
  },
  {
   "cell_type": "code",
   "execution_count": 39,
   "id": "9e695c1e",
   "metadata": {},
   "outputs": [],
   "source": [
    "#Creating function for column RaceGuamanianChamorro\n",
    "def Race_Guamanian_Chamorro(row):\n",
    "    if row['RACE'] == 'Guamanian Chamorro':\n",
    "        return 1\n",
    "    elif row['RACE'] == 'NaN':\n",
    "        return -9\n",
    "    elif row['RACE'] == 'REFUSED':\n",
    "        return -7\n",
    "    else:\n",
    "        return 0\n",
    "\n",
    "    \n",
    "df['RaceGuamanianChamorro'] = df.apply(Race_Guamanian_Chamorro,axis=1)"
   ]
  },
  {
   "cell_type": "code",
   "execution_count": 40,
   "id": "38ac527b",
   "metadata": {},
   "outputs": [],
   "source": [
    "#Creating function for column RaceSamoan\n",
    "def Race_Samoan(row):\n",
    "    if row['RACE'] == 'Samoan':\n",
    "        return 1\n",
    "    elif row['RACE'] == 'NaN':\n",
    "        return -9\n",
    "    elif row['RACE'] == 'REFUSED':\n",
    "        return -7\n",
    "    else:\n",
    "        return 0\n",
    "    \n",
    "\n",
    "df['RaceSamoan'] = df.apply(Race_Samoan,axis=1)"
   ]
  },
  {
   "cell_type": "code",
   "execution_count": 41,
   "id": "f31054b6",
   "metadata": {},
   "outputs": [],
   "source": [
    "#Creating function for column RaceOtherPacificIslander\n",
    "def Race_Pacific_Islander(row):\n",
    "    if row['RACE'] == 'Pacific Islander':\n",
    "        return 1\n",
    "    elif row['RACE'] == 'NaN':\n",
    "        return -9\n",
    "    elif row['RACE'] == 'REFUSED':\n",
    "        return -7\n",
    "    else:\n",
    "        return 0\n",
    "\n",
    "\n",
    "df['RaceOtherPacificIslander'] = df.apply(Race_Pacific_Islander,axis=1)"
   ]
  },
  {
   "cell_type": "code",
   "execution_count": 42,
   "id": "7fa8778b",
   "metadata": {},
   "outputs": [],
   "source": [
    "#Creating function for column RaceOther\n",
    "def Race_Other(row):\n",
    "    if row['RACE'] == 'Other (SPECIFY)':\n",
    "        return 1\n",
    "    elif row['RACE'] == 'NaN':\n",
    "        return -9\n",
    "    elif row['RACE'] == 'REFUSED':\n",
    "        return -7\n",
    "    else:\n",
    "        return 0\n",
    "    \n",
    "\n",
    "df['RaceOther'] = df.apply(Race_Other,axis=1)\n",
    "\n",
    "#Renaming column \n",
    "df.rename(columns = {'RACE_OTHER':'RaceSpec'}, inplace = True)\n",
    "\n",
    "#Renaming column to create column RaceSpec\n",
    "df['RaceSpec'] = df['RaceSpec']\n"
   ]
  },
  {
   "cell_type": "code",
   "execution_count": 43,
   "id": "d82fcbd4",
   "metadata": {},
   "outputs": [],
   "source": [
    "def lang_other_span(row):\n",
    "    if row['SPEAK_LANGUAGE_OTHER_THAN_ENGLISH'] == 'No (Skip to Question 5)':\n",
    "        return 'Yes'\n",
    "    elif row['SPEAK_LANGUAGE_OTHER_THAN_ENGLISH'] == 'Yes' and row['WHAT_OTHER_LANGUAGE'] == 'Spanish':\n",
    "        return 'No'\n",
    "    elif row['SPEAK_LANGUAGE_OTHER_THAN_ENGLISH'] == 'Yes' and row['WHAT_OTHER_LANGUAGE'] == 'Other (SPECIFY)':\n",
    "        return 'Yes'\n",
    "    elif row['SPEAK_LANGUAGE_OTHER_THAN_ENGLISH'] == 'REFUSED (Skip to Question 5)':\n",
    "        return row['SPEAK_LANGUAGE_OTHER_THAN_ENGLISH']\n",
    "    \n",
    "df['SPEAK_LANGUAGE_OTHER_THAN_SPANISH'] = df.apply(lang_other_span, axis = 1)"
   ]
  },
  {
   "cell_type": "code",
   "execution_count": 44,
   "id": "2e8826cc",
   "metadata": {},
   "outputs": [],
   "source": [
    "# Filling missing in values in SPEAK_LANGUAGE_OTHER_THAN_ENGLISH column with 'NaN'\n",
    "df['SPEAK_LANGUAGE_OTHER_THAN_ENGLISH'] = df['SPEAK_LANGUAGE_OTHER_THAN_ENGLISH'].fillna('NaN')\n",
    "\n",
    "#Creating function for LangNotEnglishAtHome\n",
    "def Lang_Eng_Not_Spoken(row):\n",
    "    if row['SPEAK_LANGUAGE_OTHER_THAN_SPANISH'] == 'No':\n",
    "        return -1\n",
    "    elif row['SPEAK_LANGUAGE_OTHER_THAN_ENGLISH'] == 'Yes':\n",
    "        return 1\n",
    "    elif row['SPEAK_LANGUAGE_OTHER_THAN_ENGLISH'] == 'No (Skip to Question 5)':\n",
    "        return 0\n",
    "    elif row['SPEAK_LANGUAGE_OTHER_THAN_ENGLISH'] == 'REFUSED (Skip to Question 5)':\n",
    "        return -7\n",
    "    elif row['SPEAK_LANGUAGE_OTHER_THAN_ENGLISH'] == 'NaN':\n",
    "        return -9\n",
    "\n",
    "\n",
    "df['LangNotEnglishAtHome'] = df.apply(Lang_Eng_Not_Spoken,axis=1)\n",
    "\n",
    "#Creating function to create column LangNotEnglishSpoken\n",
    "def Lang_Not_English_Spoken (row):\n",
    "    if row['SPEAK_LANGUAGE_OTHER_THAN_SPANISH'] == 'No':\n",
    "        return -1\n",
    "    elif row['WHAT_OTHER_LANGUAGE'] == 'Spanish':\n",
    "        return 1\n",
    "    elif row['WHAT_OTHER_LANGUAGE'] == 'Other (SPECIFY)':\n",
    "        return 2\n",
    "    else:\n",
    "        return -1\n",
    "\n",
    "    \n",
    "df['LangNotEnglishSpoken'] = df.apply(Lang_Not_English_Spoken,axis=1)\n",
    "\n",
    "#Renaming column to create column LangNotEnglishSpokenSpec\n",
    "df.rename(columns = {'LANGUAGE_OTHER':'LangNotEnglishSpokenSpec'}, inplace = True)\n",
    "\n",
    "#Creating LangNotSpanishSpokenSpec column\n",
    "df['LangNotSpanishSpokenSpec'] = ''"
   ]
  },
  {
   "cell_type": "code",
   "execution_count": 45,
   "id": "b6bd41f4",
   "metadata": {},
   "outputs": [],
   "source": [
    "#Creating function to create column LangNotSpanishAtHome\n",
    "def Lang_Not_Spanish_Spoken_Home (row):\n",
    "    if row['SPEAK_LANGUAGE_OTHER_THAN_ENGLISH'] == 'No (Skip to Question 5)':\n",
    "        return -1\n",
    "    elif row['SPEAK_LANGUAGE_OTHER_THAN_SPANISH'] == 'Yes' or row['SPEAK_LANGUAGE_OTHER_THAN_SPANISH'] == 'Other (SPECIFY)':\n",
    "        return 1\n",
    "    elif row['SPEAK_LANGUAGE_OTHER_THAN_SPANISH'] == 'No':\n",
    "        return 0\n",
    "    elif row['SPEAK_LANGUAGE_OTHER_THAN_SPANISH'] == 'REFUSED (Skip to Question 5)':\n",
    "        return -7\n",
    "    elif row['LangNotEnglishSpoken'] == 2:\n",
    "        return -1\n",
    "    elif row['LangNotEnglishAtHome'] == 0:\n",
    "        return -1\n",
    "    else:\n",
    "        return -1\n",
    "    \n",
    "    \n",
    "df['LangNotSpanishAtHome'] = df.apply(Lang_Not_Spanish_Spoken_Home,axis=1)  \n",
    "\n",
    "\n",
    "\n",
    "#Creating function to create column LangNotSpanishSpoken\n",
    "def Lang_Not_Spanish_Spoken (row):\n",
    "    if row['SPEAK_LANGUAGE_OTHER_THAN_ENGLISH'] == 'No (Skip to Question 5)':\n",
    "        return -1\n",
    "    elif row['SPEAK_LANGUAGE_OTHER_THAN_SPANISH'] == 'Yes':\n",
    "        return 1\n",
    "    elif row['SPEAK_LANGUAGE_OTHER_THAN_SPANISH'] == 'Other (SPECIFY)':\n",
    "        return 2\n",
    "    elif row['SPEAK_LANGUAGE_OTHER_THAN_SPANISH'] == 'REFUSED (Skip to Question 5)':\n",
    "        return -7\n",
    "    elif row['SPEAK_LANGUAGE_OTHER_THAN_SPANISH'] == 'No':\n",
    "        return -1\n",
    "    elif row['LangNotEnglishAtHome'] == 0:\n",
    "        return -1\n",
    "    elif row['LangNotEnglishSpoken'] == 2:\n",
    "        return -1\n",
    "    \n",
    "    else:\n",
    "        return -1\n",
    "\n",
    "    \n",
    "df['LangNotSpanishSpoken'] = df.apply(Lang_Not_Spanish_Spoken,axis=1) \n"
   ]
  },
  {
   "cell_type": "code",
   "execution_count": 46,
   "id": "0a2b7c79",
   "metadata": {},
   "outputs": [],
   "source": [
    "#filling missing values with 'NaN'\n",
    "df['WHAT_DO_YOU_THINK_OF_YOURSELF_AS'] = df['WHAT_DO_YOU_THINK_OF_YOURSELF_AS'].fillna('NaN')\n",
    "\n",
    "#Creating substrings\n",
    "df['WHAT_DO_YOU_THINK_OF_YOURSELF_AS'] = df['WHAT_DO_YOU_THINK_OF_YOURSELF_AS'].str.split(',').str[0]\n",
    "\n",
    "#Creating function for column SexIdentHeterosexual\n",
    "def Straight (row):\n",
    "    if row['WHAT_DO_YOU_THINK_OF_YOURSELF_AS'] == 'Straight or Heterosexual':\n",
    "        return 1\n",
    "    elif row['WHAT_DO_YOU_THINK_OF_YOURSELF_AS'] == 'REFUSED':\n",
    "        return -7\n",
    "    elif row['WHAT_DO_YOU_THINK_OF_YOURSELF_AS'] == 'NaN':\n",
    "        return -9\n",
    "    else:\n",
    "        return 0\n",
    "    \n",
    "    \n",
    "df['SexIdentHeterosexual'] = df.apply(Straight,axis=1)"
   ]
  },
  {
   "cell_type": "code",
   "execution_count": 47,
   "id": "b492df77",
   "metadata": {},
   "outputs": [],
   "source": [
    "#Creating function for column SexIdentHomoSexual\n",
    "def Homosexual (row):\n",
    "    if row['WHAT_DO_YOU_THINK_OF_YOURSELF_AS'] == 'Homosexual (Gay or Lesbian)':\n",
    "        return 1\n",
    "    elif row['WHAT_DO_YOU_THINK_OF_YOURSELF_AS'] == 'REFUSED':\n",
    "        return -7\n",
    "    elif row['WHAT_DO_YOU_THINK_OF_YOURSELF_AS'] == 'NaN':\n",
    "        return -9\n",
    "    else:\n",
    "        return 0\n",
    "\n",
    "df['SexIdentHomosexual'] = df.apply(Homosexual,axis=1)"
   ]
  },
  {
   "cell_type": "code",
   "execution_count": 48,
   "id": "ac482119",
   "metadata": {},
   "outputs": [],
   "source": [
    "#Creating function for column SexIdentBiSexual\n",
    "def Bisexual (row):\n",
    "    if row['WHAT_DO_YOU_THINK_OF_YOURSELF_AS'] == 'Bisexual':\n",
    "        return 1\n",
    "    elif row['WHAT_DO_YOU_THINK_OF_YOURSELF_AS'] == 'REFUSED':\n",
    "        return -7\n",
    "    elif row['WHAT_DO_YOU_THINK_OF_YOURSELF_AS'] == 'NaN':\n",
    "        return -9\n",
    "    else:\n",
    "        return 0\n",
    "\n",
    "df['SexIdentBisexual'] = df.apply(Bisexual,axis=1)"
   ]
  },
  {
   "cell_type": "code",
   "execution_count": 49,
   "id": "a40fc17d",
   "metadata": {},
   "outputs": [],
   "source": [
    "#Creating function for column SexIdentQueerPanaQuest\n",
    "def Queer_Pan_Quest (row):\n",
    "    if row['WHAT_DO_YOU_THINK_OF_YOURSELF_AS'] == 'Queer, Pansexual, And/Or Questioning':\n",
    "        return 1\n",
    "    elif row['WHAT_DO_YOU_THINK_OF_YOURSELF_AS'] == 'REFUSED':\n",
    "        return -7\n",
    "    elif row['WHAT_DO_YOU_THINK_OF_YOURSELF_AS'] == 'NaN':\n",
    "        return -9\n",
    "    else:\n",
    "        return 0\n",
    "    \n",
    "    \n",
    "df['SexIdentQueerPanaQuest'] = df.apply(Queer_Pan_Quest,axis=1)"
   ]
  },
  {
   "cell_type": "code",
   "execution_count": 50,
   "id": "96038cb9",
   "metadata": {},
   "outputs": [],
   "source": [
    "#Creating function for column SexIdentAsexual\n",
    "def Asexual (row):\n",
    "    if row['WHAT_DO_YOU_THINK_OF_YOURSELF_AS'] == 'Asexual':\n",
    "        return 1\n",
    "    elif row['WHAT_DO_YOU_THINK_OF_YOURSELF_AS'] == 'REFUSED':\n",
    "        return -7\n",
    "    elif row['WHAT_DO_YOU_THINK_OF_YOURSELF_AS'] == 'NaN':\n",
    "        return -9\n",
    "    else:\n",
    "        return 0\n",
    "\n",
    "    \n",
    "df['SexIdentAsexual'] = df.apply(Asexual,axis=1)"
   ]
  },
  {
   "cell_type": "code",
   "execution_count": 51,
   "id": "f9c5cca0",
   "metadata": {},
   "outputs": [],
   "source": [
    "#Creating function for column SexIdentOther\n",
    "def Other (row):\n",
    "    if row['WHAT_DO_YOU_THINK_OF_YOURSELF_AS'] == 'Other':\n",
    "        return 1\n",
    "    elif row['WHAT_DO_YOU_THINK_OF_YOURSELF_AS'] == 'REFUSED':\n",
    "        return -7\n",
    "    elif row['WHAT_DO_YOU_THINK_OF_YOURSELF_AS'] == 'NaN':\n",
    "        return -9\n",
    "    else:\n",
    "        return 0\n",
    "\n",
    "    \n",
    "df['SexIdentOther'] = df.apply(Other,axis=1)"
   ]
  },
  {
   "cell_type": "code",
   "execution_count": 52,
   "id": "570f6af2",
   "metadata": {},
   "outputs": [],
   "source": [
    "#Creating function for column SexIdentSpec\n",
    "def Other_Spec (row):\n",
    "    if row['WHAT_DO_YOU_THINK_OF_YOURSELF_AS'] == 'Other (SPECIFY)':\n",
    "        return 1\n",
    "    elif row['WHAT_DO_YOU_THINK_OF_YOURSELF_AS'] == 'REFUSED':\n",
    "        return -7\n",
    "    elif row['WHAT_DO_YOU_THINK_OF_YOURSELF_AS'] == 'NaN':\n",
    "        return -9\n",
    "    else:\n",
    "        return 0\n",
    "    \n",
    "def Other_Spec_code(row):\n",
    "    if row['InterviewType']==1 and row['SexIdentOther'] == 1:\n",
    "        return Other_Spec(row)\n",
    "    else:\n",
    "        pass\n",
    "    \n",
    "df['SexIdentSpec'] = df.apply(Other_Spec_code,axis=1)  "
   ]
  },
  {
   "cell_type": "code",
   "execution_count": 53,
   "id": "49d43cc3",
   "metadata": {},
   "outputs": [],
   "source": [
    "#Filling in null values with'NaN'\n",
    "df['RELATIONSHIP_STATUS'] = df['RELATIONSHIP_STATUS'].fillna('NaN')\n",
    "\n",
    "#Creating function for RelationshipStatus column\n",
    "def Relationship_Status (row):\n",
    "    if row['RELATIONSHIP_STATUS'] == 'Married':\n",
    "        return 1\n",
    "    elif row['RELATIONSHIP_STATUS'] == 'Single':\n",
    "        return 2\n",
    "    elif row['RELATIONSHIP_STATUS'] == 'Divorced':\n",
    "        return 3\n",
    "    elif row['RELATIONSHIP_STATUS'] == 'Separated':\n",
    "        return 4\n",
    "    elif row['RELATIONSHIP_STATUS'] == 'Widowed':\n",
    "        return 5\n",
    "    elif row['RELATIONSHIP_STATUS'] == 'In a relationship':\n",
    "        return 6\n",
    "    elif row['RELATIONSHIP_STATUS'] == 'In multiple relationships':\n",
    "        return 7\n",
    "    elif row['RELATIONSHIP_STATUS'] == 'REFUSED':\n",
    "        return -7\n",
    "    elif row['RELATIONSHIP_STATUS'] == 'NaN':\n",
    "        return -9\n",
    "\n",
    "df['RelationshipStatus'] = df.apply(Relationship_Status,axis=1)\n"
   ]
  },
  {
   "cell_type": "code",
   "execution_count": 54,
   "id": "2ae2158e",
   "metadata": {},
   "outputs": [],
   "source": [
    "#Filling missing values with 'NaN'\n",
    "df['CURRENTLY_PREGNANT'] = df['CURRENTLY_PREGNANT'].fillna('NaN')\n",
    "\n",
    "#Creating function for Pregnant column\n",
    "def Pregnant (row):\n",
    "    if row['CURRENTLY_PREGNANT'] == 'Yes':\n",
    "        return 1\n",
    "    elif row['CURRENTLY_PREGNANT'] == 'No':\n",
    "        return 0\n",
    "    elif row['CURRENTLY_PREGNANT'] == 'Do not know':\n",
    "        return -8\n",
    "    elif row['CURRENTLY_PREGNANT'] == 'REFUSED':\n",
    "        return -7\n",
    "    elif row['CURRENTLY_PREGNANT'] == 'NaN':\n",
    "        return -9\n",
    "\n",
    "df['Pregnant'] = df.apply(Pregnant,axis=1)"
   ]
  },
  {
   "cell_type": "code",
   "execution_count": 55,
   "id": "c58d5a1c",
   "metadata": {},
   "outputs": [],
   "source": [
    "#Replacing null values with 'NaN'\n",
    "df['HAVE_CHILDREN'] = df['HAVE_CHILDREN'].fillna(-9)\n",
    "\n",
    "# Creating function to create new column Children\n",
    "def Child (row):\n",
    "    if row['HAVE_CHILDREN'] == 'Yes':\n",
    "        return 1\n",
    "    elif row['HAVE_CHILDREN'] == 'No (Skip to Question 9)':\n",
    "        return 0\n",
    "    elif row['HAVE_CHILDREN'] == 'REFUSED (Skip to Question 9)':\n",
    "        return -7\n",
    "    elif row['HAVE_CHILDREN'] == -9:\n",
    "        return -9\n",
    "\n",
    "df['Children'] = df.apply(Child,axis=1)"
   ]
  },
  {
   "cell_type": "code",
   "execution_count": 56,
   "id": "af89bfd3",
   "metadata": {},
   "outputs": [],
   "source": [
    "#Renaming columns \n",
    "df.rename(columns = {'CHILDREN_UNDER_18':'ChildrenUnder18Nr'}, inplace = True)\n",
    "\n",
    "\n",
    "def ChildrenUnder18Nr(row):\n",
    "    if row['Children'] == 1:\n",
    "        return row['ChildrenUnder18Nr']\n",
    "    else:\n",
    "        pass\n",
    "    \n",
    "df['ChildrenUnder18Nr'] = df.apply(ChildrenUnder18Nr,axis=1)"
   ]
  },
  {
   "cell_type": "code",
   "execution_count": 57,
   "id": "654f6b08",
   "metadata": {},
   "outputs": [],
   "source": [
    "#Creating function to create column ChildrenCustody\n",
    "def custody(row):\n",
    "    if row['CHILDREN_UNDER_18_LIVING_SOMEWHERE_ELSE_COURT_INTERVENTION'] == 'Yes':\n",
    "        return 1\n",
    "    elif  row['CHILDREN_UNDER_18_LIVING_SOMEWHERE_ELSE_COURT_INTERVENTION'] == 'No (Skip to Question 9)':\n",
    "        return 0\n",
    "\n",
    "def Children_Custody_code(row):\n",
    "    if row['Children'] != 1:\n",
    "        pass\n",
    "    elif row['ChildrenUnder18Nr'] <= 0:\n",
    "        pass\n",
    "    elif row['ChildrenUnder18Nr'] > 0:\n",
    "        return custody(row)\n",
    "    \n",
    "    \n",
    "    \n",
    "df['ChildrenCustody'] = df.apply(Children_Custody_code,axis=1)"
   ]
  },
  {
   "cell_type": "code",
   "execution_count": 58,
   "id": "8a1362b6",
   "metadata": {},
   "outputs": [],
   "source": [
    "#Renaming column \n",
    "df.rename(columns = {'CHILDREN_REMOVED_FROM_CLIENTS_CARE':'ChildrenCustodyNr'}, inplace = True)\n",
    "\n",
    "def custody_nr (row):\n",
    "    if row['ChildrenCustody'] == 1:\n",
    "        return row['ChildrenCustodyNr'] \n",
    "\n",
    "def ChildrenCustodyNr(row):\n",
    "    if row['Children'] != 1:\n",
    "        pass\n",
    "    elif row['ChildrenUnder18Nr'] <= 0:\n",
    "        pass\n",
    "    else:\n",
    "        return custody_nr(row)\n",
    "\n",
    "df['ChildrenCustodyNr'] = df.apply(ChildrenCustodyNr,axis=1)"
   ]
  },
  {
   "cell_type": "code",
   "execution_count": 59,
   "id": "3a3ea212",
   "metadata": {},
   "outputs": [],
   "source": [
    "#Creating function to create column ChildrenReunited\n",
    "def child_reunited(row):\n",
    "    if row ['REUNITED_WITH_CHILDREN_UNDER_18_PREV_REMOVED_FROM_CARE'] == 'Yes':\n",
    "        return 1\n",
    "    elif row ['REUNITED_WITH_CHILDREN_UNDER_18_PREV_REMOVED_FROM_CARE']== 'No':\n",
    "        return 0\n",
    "\n",
    "def Children_Reunited_code(row):\n",
    "    if row['Children'] != 1:\n",
    "        pass\n",
    "    elif row['ChildrenUnder18Nr'] <= 0:\n",
    "        pass\n",
    "    elif row['ChildrenCustody'] != 1:\n",
    "        pass\n",
    "    else:\n",
    "        return child_reunited(row)\n",
    "\n",
    "    \n",
    "df['ChildrenReunited'] = df.apply(Children_Reunited_code,axis=1)"
   ]
  },
  {
   "cell_type": "code",
   "execution_count": 60,
   "id": "b7f74e46",
   "metadata": {},
   "outputs": [],
   "source": [
    "#Renaming column \n",
    "df.rename(columns = {'CHILDREN_REUNITED_WITH_CLIENT':'ChildrenReunitedNr'},inplace = True)\n",
    "\n",
    "def ChildrenReunitedNr(row):\n",
    "    if row['ChildrenReunited'] == 1:\n",
    "        return row['ChildrenReunitedNr']\n",
    "\n",
    "df['ChildrenReunitedNr'] = df.apply(ChildrenReunitedNr,axis=1)"
   ]
  },
  {
   "cell_type": "code",
   "execution_count": 61,
   "id": "6114649e",
   "metadata": {},
   "outputs": [],
   "source": [
    "#Replacing null values 'NaN'\n",
    "df['EVER_SERVED_IN_MILITARY'] = df['EVER_SERVED_IN_MILITARY'].fillna('NaN')\n",
    "\n",
    "#Creating function to create new column MilitaryServed\n",
    "def Military_Served (row):\n",
    "    if row['EVER_SERVED_IN_MILITARY'] == 'No':\n",
    "        return 0\n",
    "    elif row['EVER_SERVED_IN_MILITARY'] == 'Yes, In the Armed Forces':\n",
    "        return 1\n",
    "    elif row['EVER_SERVED_IN_MILITARY'] == 'Yes, In the National Guard':\n",
    "        return 3\n",
    "    elif row['EVER_SERVED_IN_MILITARY'] == 'REFUSED':\n",
    "        return -7\n",
    "    elif row['EVER_SERVED_IN_MILITARY'] == 'NaN':\n",
    "        return -9\n",
    "\n",
    "    \n",
    "df['MilitaryServed'] = df.apply(Military_Served,axis=1)"
   ]
  },
  {
   "cell_type": "code",
   "execution_count": 62,
   "id": "c28e03d8",
   "metadata": {},
   "outputs": [],
   "source": [
    "#Replacing null values 'NaN'\n",
    "df['HOW_LONG_TO_TRAVEL_TO_GRANT_SERVICES_LOCATION'] = df['HOW_LONG_TO_TRAVEL_TO_GRANT_SERVICES_LOCATION'].fillna('NaN')\n",
    "\n",
    "#Creating function to create new column ServicesTravelTime\n",
    "def Travel_Time (row):\n",
    "    if row['HOW_LONG_TO_TRAVEL_TO_GRANT_SERVICES_LOCATION'] == 'Half an hour or less':\n",
    "        return 1\n",
    "    elif row['HOW_LONG_TO_TRAVEL_TO_GRANT_SERVICES_LOCATION'] == 'Between half an hour and one hour':\n",
    "        return 2\n",
    "    elif row['HOW_LONG_TO_TRAVEL_TO_GRANT_SERVICES_LOCATION'] == 'Between one hour and one and a half hours':\n",
    "        return 3\n",
    "    elif row['HOW_LONG_TO_TRAVEL_TO_GRANT_SERVICES_LOCATION'] == 'Between one and a half hours and two hours':\n",
    "        return 4\n",
    "    elif row['HOW_LONG_TO_TRAVEL_TO_GRANT_SERVICES_LOCATION'] == 'Two hours or more':\n",
    "        return 5\n",
    "    elif row['HOW_LONG_TO_TRAVEL_TO_GRANT_SERVICES_LOCATION'] == 'REFUSED':\n",
    "        return -7\n",
    "    elif row['HOW_LONG_TO_TRAVEL_TO_GRANT_SERVICES_LOCATION'] == 'NaN':\n",
    "        return -9\n",
    "\n",
    "\n",
    "    \n",
    "df['ServicesTravelTime'] = df.apply(Travel_Time,axis=1)"
   ]
  },
  {
   "cell_type": "code",
   "execution_count": 63,
   "id": "090acb3a",
   "metadata": {},
   "outputs": [],
   "source": [
    "# filtering columnms based on Interview Type\n",
    "\n",
    "# list object with columns to be filtered\n",
    "filter_columns = ['BirthMonth','BirthYear','Age','AgeGroup',\n",
    "                  'Gender','GenderSpec','HispanicLatino','EthnicCentralAmerican',\n",
    "                  'EthnicCuban','EthnicDominican','EthnicMexican','EthnicPuertoRican',\n",
    "                  'EthnicSouthAmerican','EthnicOther','EthnicOtherSpec','RaceBlack','RaceWhite',\n",
    "                  'RaceAmericanIndian',\t'RaceAlaskaNative',\t'RaceAsianIndian','RaceChinese','RaceFilipino',\n",
    "                  'RaceJapanese','RaceKorean','RaceVietnamese','RaceOtherAsian','RaceNativeHawaiian',\n",
    "                  'RaceGuamanianChamorro','RaceSamoan','RaceOtherPacificIslander','RaceOther','RaceSpec',\n",
    "                  'LangNotEnglishAtHome','LangNotEnglishSpoken','LangNotEnglishSpokenSpec','LangNotSpanishAtHome',\n",
    "                  'LangNotSpanishSpoken','LangNotSpanishSpokenSpec','SexIdentHeterosexual','SexIdentHomosexual',\n",
    "                  'SexIdentBisexual','SexIdentQueerPanaQuest','SexIdentAsexual','SexIdentOther','SexIdentSpec',\n",
    "                  'RelationshipStatus','Pregnant','Children','ChildrenUnder18Nr','ChildrenCustody','ChildrenCustodyNr',\n",
    "                  'ChildrenReunited','ChildrenReunitedNr','MilitaryServed','ServicesTravelTime']\n",
    "\n",
    "def interview_type(row):\n",
    "    if row['InterviewType'] == 1:\n",
    "        return row[filter_columns]\n",
    "    else:\n",
    "        pass\n",
    "    \n",
    "df[filter_columns] = df.apply(interview_type, axis = 1)"
   ]
  },
  {
   "cell_type": "code",
   "execution_count": 64,
   "id": "84c3ab4c",
   "metadata": {},
   "outputs": [
    {
     "data": {
      "text/plain": [
       "(15, 491)"
      ]
     },
     "execution_count": 64,
     "metadata": {},
     "output_type": "execute_result"
    }
   ],
   "source": [
    "df.shape"
   ]
  },
  {
   "cell_type": "code",
   "execution_count": 65,
   "id": "b338d454",
   "metadata": {},
   "outputs": [
    {
     "data": {
      "text/plain": [
       "(15, 55)"
      ]
     },
     "execution_count": 65,
     "metadata": {},
     "output_type": "execute_result"
    }
   ],
   "source": [
    "df[filter_columns].shape"
   ]
  },
  {
   "cell_type": "code",
   "execution_count": 66,
   "id": "e017ae73",
   "metadata": {},
   "outputs": [],
   "source": [
    "#Renaming column\n",
    "df.rename(columns = {'ALCOHOL_NUMBER_OF_DAYS':'AlcoholDays'}, inplace = True)\n",
    "\n",
    "#Replacing null values with 0 to create column AlcoholDays\n",
    "df['AlcoholDays'] = df['AlcoholDays'].fillna(0)\n",
    "\n",
    "#Replacing values greater than 30 with 30\n",
    "df['AlcoholDays'] = df['AlcoholDays'].apply(lambda x:exceed_thirty_days(x))"
   ]
  },
  {
   "cell_type": "code",
   "execution_count": 67,
   "id": "948ec133",
   "metadata": {},
   "outputs": [],
   "source": [
    "#Creating function for AlcoholRoute\n",
    "def Alcohol_Route (row):\n",
    "    if row['ALCOHOL_ROUTE'] == '1. Oral':\n",
    "        return 1\n",
    "    elif row['AlcoholDays'] ==0:\n",
    "        return -1\n",
    "    else:\n",
    "        return -1\n",
    "    \n",
    "#Creating column AlcoholRoute via applying the function Alcohol_Route\n",
    "df['AlcoholRoute'] = df.apply(Alcohol_Route, axis = 1 )"
   ]
  },
  {
   "cell_type": "code",
   "execution_count": 68,
   "id": "4b26c69b",
   "metadata": {},
   "outputs": [],
   "source": [
    "#Creating column AlcoholOther1Days \n",
    "df['AlcoholOther1Days'] = 0\n",
    "\n",
    "#Creating column AlcoholOther1Route \n",
    "df['AlcoholOther1Route'] = -1\n",
    "\n",
    "df['AlcoholOther1Spec'] = \" \"\n",
    "\n",
    "#Replacing missing values to create respective columns\n",
    "df['AlcoholOther2Days'] = 0\n",
    "df['AlcoholOther2Route'] = -1\n",
    "df['AlcoholOther2Spec'] = \" \"\n",
    "df['AlcoholOther3Days'] = 0\n",
    "df['AlcoholOther3Route'] = -1\n",
    "df['AlcoholOther3Spec'] = \" \""
   ]
  },
  {
   "cell_type": "code",
   "execution_count": 69,
   "id": "6453a360",
   "metadata": {},
   "outputs": [],
   "source": [
    "#Renaming colulmn\n",
    "df.rename(columns = {'HEROIN_NUMBER_OF_DAYS':'OpioidsHeroinDays'}, inplace = True)\n",
    "\n",
    "#Replacing null values with 0 to create column OpioidsHeroinDays\n",
    "df['OpioidsHeroinDays'] = df['OpioidsHeroinDays'].fillna(0)\n",
    "\n",
    "df['OpioidsHeroinDays'] = df['OpioidsHeroinDays'].apply(lambda x:exceed_thirty_days(x))"
   ]
  },
  {
   "cell_type": "code",
   "execution_count": 70,
   "id": "54ed209d",
   "metadata": {},
   "outputs": [
    {
     "data": {
      "text/plain": [
       "12   NaN\n",
       "10   NaN\n",
       "9    NaN\n",
       "8    NaN\n",
       "5    NaN\n",
       "11   NaN\n",
       "0    NaN\n",
       "7    NaN\n",
       "4    NaN\n",
       "14   NaN\n",
       "13   NaN\n",
       "2    NaN\n",
       "3    NaN\n",
       "1    NaN\n",
       "6    NaN\n",
       "Name: HEROIN_ROUTE, dtype: float64"
      ]
     },
     "execution_count": 70,
     "metadata": {},
     "output_type": "execute_result"
    }
   ],
   "source": [
    "df['HEROIN_ROUTE']"
   ]
  },
  {
   "cell_type": "code",
   "execution_count": 71,
   "id": "3a0195fb",
   "metadata": {},
   "outputs": [],
   "source": [
    "#Creating function for column OpioidsHeroinRoute\n",
    "def Heroin_Route (row):\n",
    "    if row['HEROIN_ROUTE'] == '1. Oral':\n",
    "        return 1\n",
    "    elif row['HEROIN_ROUTE'] == '2. Intranasal':\n",
    "        return 2\n",
    "    elif row['HEROIN_ROUTE'] == '3. Vaping':\n",
    "        return 6\n",
    "    elif row['HEROIN_ROUTE'] == '5. Non-IV Injection':\n",
    "        return 4\n",
    "    elif row['HEROIN_ROUTE'] == '6. Intravenous (IV) Injection':\n",
    "        return 5\n",
    "    elif row['HEROIN_ROUTE'] == '0. Other':\n",
    "        return 0\n",
    "    elif row['HEROIN_ROUTE'] == '4. Smoking':\n",
    "        return 3\n",
    "    elif row['OpioidsHeroinDays'] == 0:\n",
    "        return -1\n",
    "    else:\n",
    "        return -1\n",
    "    \n",
    "#Creating column OpioidsHeroinRoute via applying function Heroin_Route\n",
    "df['OpioidsHeroinRoute'] = df.apply(Heroin_Route, axis = 1)"
   ]
  },
  {
   "cell_type": "code",
   "execution_count": 72,
   "id": "cc4bae7c",
   "metadata": {},
   "outputs": [
    {
     "data": {
      "text/plain": [
       "array([nan])"
      ]
     },
     "execution_count": 72,
     "metadata": {},
     "output_type": "execute_result"
    }
   ],
   "source": [
    "df['HEROIN_ROUTE'].unique()"
   ]
  },
  {
   "cell_type": "code",
   "execution_count": 73,
   "id": "71fa90be",
   "metadata": {},
   "outputs": [],
   "source": [
    "#Renaming columns\n",
    "df.rename(columns = {'MORPHINE_NUMBER_OF_DAYS':'OpioidsMorphineDays'}, inplace = True)\n",
    "\n",
    "# Amending 'MORPHINE_NUMBER_OF_DAYS' column via replacing null values with 0 to create OpioidsMorphineDays column\n",
    "df['OpioidsMorphineDays'] = df['OpioidsMorphineDays'].fillna(0)\n",
    "\n",
    "df['OpioidsMorphineDays'] = df['OpioidsMorphineDays'].apply(lambda x: exceed_thirty_days(x))"
   ]
  },
  {
   "cell_type": "code",
   "execution_count": 74,
   "id": "6a246627",
   "metadata": {},
   "outputs": [],
   "source": [
    "#Creating function to create new column OpioidsMorphineRoute\n",
    "def Morphine_Route (row):\n",
    "    if row['MORPHINE_ROUTE'] == '1. Oral':\n",
    "        return 1\n",
    "    elif row['MORPHINE_ROUTE'] == '6. Intravenous (IV) Injection':\n",
    "        return 2\n",
    "    elif row['MORPHINE_ROUTE'] == '0. Other':\n",
    "        return 0\n",
    "    elif row['OpioidsMorphineDays'] == 0:\n",
    "        return -1\n",
    "    \n",
    "#Creating new column OpioidsMorphineRoute via applying the function Morphine_Route\n",
    "df['OpioidsMorphineRoute'] = df.apply(Morphine_Route, axis = 1)"
   ]
  },
  {
   "cell_type": "code",
   "execution_count": 75,
   "id": "f9461718",
   "metadata": {},
   "outputs": [],
   "source": [
    "#Renaming columns \n",
    "df.rename(columns = {'FENTANYL_NUMBER_OF_DAYS':'OpioidsFentanylDays'},inplace = True)\n",
    "\n",
    "# Replacing null values with 0 to create OpioidsFentanylDays column \n",
    "df['OpioidsFentanylDays'] = df['OpioidsFentanylDays'].fillna(0)\n",
    "\n",
    "df['OpioidsFentanylDays'] = df['OpioidsFentanylDays'].apply(lambda x:exceed_thirty_days(x))"
   ]
  },
  {
   "cell_type": "code",
   "execution_count": 76,
   "id": "3a8ddaba",
   "metadata": {},
   "outputs": [],
   "source": [
    "#Creating function to create new column OpioidsFentanylRoute\n",
    "def Fentanyl_Route (row):\n",
    "    if row['FENTANYL_ROUTE'] == '1. Oral':\n",
    "        return 1\n",
    "    elif row['FENTANYL_ROUTE'] == '2. Intranasal':\n",
    "        return 2\n",
    "    elif row['FENTANYL_ROUTE'] == '6. Intravenous (IV) Injection':\n",
    "        return 5\n",
    "    elif row['FENTANYL_ROUTE'] == '0. Other':\n",
    "        return 0\n",
    "    elif row['OpioidsFentanylDays']==0:\n",
    "        return -1\n",
    "    else:\n",
    "        return -1\n",
    "    \n",
    "#Creating new column OpioidsFentanylRoute via applying the function Fentanyl_Route\n",
    "df['OpioidsFentanylRoute'] = df.apply(Fentanyl_Route, axis = 1)"
   ]
  },
  {
   "cell_type": "code",
   "execution_count": 77,
   "id": "8ef4acae",
   "metadata": {},
   "outputs": [],
   "source": [
    "#Renaming column\n",
    "df.rename(columns = {'DILAUDID_NUMBER_OF_DAYS':'OpioidsDilaudidDays'}, inplace = True)\n",
    "\n",
    "#Replacing null values with 0 to create values for column OpioidsDilaudidDays\n",
    "df['OpioidsDilaudidDays'] = df['OpioidsDilaudidDays'].fillna(0)\n",
    "\n",
    "df['OpioidsDilaudidDays'] = df['OpioidsDilaudidDays'].apply(lambda x:exceed_thirty_days(x))"
   ]
  },
  {
   "cell_type": "code",
   "execution_count": 78,
   "id": "055d729d",
   "metadata": {},
   "outputs": [],
   "source": [
    "#Creating function for creating column OpioidsDilaudidRoute\n",
    "def Dilaudid_Route (row):\n",
    "    if row ['DILAUDID_ROUTE'] == '1. Oral':\n",
    "        return 1\n",
    "    elif row['OpioidsDilaudidDays'] == 0:\n",
    "        return -1\n",
    "    else:\n",
    "        return -1\n",
    "\n",
    "# Creating new column OpioidsDilaudidRoutev via applying function Dilaudid_Route  \n",
    "df['OpioidsDilaudidRoute'] = df.apply(Dilaudid_Route,axis = 1)"
   ]
  },
  {
   "cell_type": "code",
   "execution_count": 79,
   "id": "ad29f3b7",
   "metadata": {},
   "outputs": [],
   "source": [
    "#Renaming column\n",
    "df.rename(columns = {'DEMEROL_NUMBER_OF_DAYS':'OpioidsDemerolDays'}, inplace = True)\n",
    "\n",
    "#Replacing nulll values with 0 to create values for column OpioidsDemerolDays\n",
    "df['OpioidsDemerolDays'] = df['OpioidsDemerolDays'].fillna(0)\n",
    "\n",
    "df['OpioidsDemerolDays'] = df['OpioidsDemerolDays'].apply(lambda x: exceed_thirty_days(x))"
   ]
  },
  {
   "cell_type": "markdown",
   "id": "dd2decfd",
   "metadata": {},
   "source": [
    "## Exporting GPRA SBIRT 1\n"
   ]
  },
  {
   "cell_type": "code",
   "execution_count": 80,
   "id": "a2e22726",
   "metadata": {},
   "outputs": [],
   "source": [
    "\n",
    "#Create variable by indexing columns and creating df\n",
    "GPRA1_SBIRT = df[['BatchID','PATIENT','PROVIDER_COUNTY','MRN','ClientID','ClientDescripTreat',\n",
    "                     'ClientDescripRecov','GrantNo',\t'InterviewType',\t'ConductedInterview',\n",
    "                     'InterviewDate',\t'IntakeSeqNum',\t'GrantInactFlag',\t'InactFlag',\t'FFY',\t'Quarter',\n",
    "                     'Month',\t'BirthMonth',\t'BirthYear',\t'Age',\t'AgeGroup',\t'Gender',\t'GenderSpec',\n",
    "                     'HispanicLatino',\t'EthnicCentralAmerican',\t'EthnicCuban',\t'EthnicDominican',\t'EthnicMexican',\n",
    "                     'EthnicPuertoRican',\t'EthnicSouthAmerican',\t'EthnicOther',\t'EthnicOtherSpec',\t'RaceBlack',\t\n",
    "                     'RaceWhite',\t'RaceAmericanIndian',\t'RaceAlaskaNative',\t'RaceAsianIndian',\t'RaceChinese',\t\n",
    "                     'RaceFilipino',\t'RaceJapanese',\t'RaceKorean',\t'RaceVietnamese',\t'RaceOtherAsian',\t\n",
    "                     'RaceNativeHawaiian',\t'RaceGuamanianChamorro',\t'RaceSamoan',\t'RaceOtherPacificIslander',\t\n",
    "                     'RaceOther',\t'RaceSpec',\t'LangNotEnglishAtHome',\t'LangNotEnglishSpoken',\t'LangNotEnglishSpokenSpec',\n",
    "                     'LangNotSpanishAtHome',\t'LangNotSpanishSpoken',\t'LangNotSpanishSpokenSpec',\t'SexIdentHeterosexual',\n",
    "                     'SexIdentHomosexual',\t'SexIdentBisexual',\t'SexIdentQueerPanaQuest',\t'SexIdentAsexual',\t\n",
    "                     'SexIdentOther',\t'SexIdentSpec',\t'RelationshipStatus',\t'Pregnant',\t'Children',\t\n",
    "                     'ChildrenUnder18Nr',\t'ChildrenCustody',\t'ChildrenCustodyNr',\t'ChildrenReunited',\t\n",
    "                     'ChildrenReunitedNr',\t'MilitaryServed',\t'ServicesTravelTime',\t'AlcoholDays',\t'AlcoholRoute',\n",
    "                     'AlcoholOther1Days',\t'AlcoholOther1Route',\t'AlcoholOther1Spec',\t'AlcoholOther2Days',\n",
    "                     'AlcoholOther2Route',\t'AlcoholOther2Spec',\t'AlcoholOther3Days',\t'AlcoholOther3Route',\n",
    "                     'AlcoholOther3Spec',\t'OpioidsHeroinDays',\t'OpioidsHeroinRoute',\t'OpioidsMorphineDays',\n",
    "                     'OpioidsMorphineRoute',\t'OpioidsFentanylDays',\t'OpioidsFentanylRoute',\t'OpioidsDilaudidDays',\n",
    "                     'OpioidsDilaudidRoute',\t'OpioidsDemerolDays']]\n",
    "\n",
    "#Exporting GPRA 1\n",
    "GPRA1_SBIRT.to_csv('GPRA1_SBIRT.csv', index = False, header = True, encoding = 'utf-8')"
   ]
  }
 ],
 "metadata": {
  "kernelspec": {
   "display_name": "Python 3 (ipykernel)",
   "language": "python",
   "name": "python3"
  },
  "language_info": {
   "codemirror_mode": {
    "name": "ipython",
    "version": 3
   },
   "file_extension": ".py",
   "mimetype": "text/x-python",
   "name": "python",
   "nbconvert_exporter": "python",
   "pygments_lexer": "ipython3",
   "version": "3.11.4"
  }
 },
 "nbformat": 4,
 "nbformat_minor": 5
}

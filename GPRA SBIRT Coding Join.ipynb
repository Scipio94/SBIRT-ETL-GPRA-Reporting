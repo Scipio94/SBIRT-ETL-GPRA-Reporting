{
 "cells": [
  {
   "cell_type": "markdown",
   "id": "3ceac960",
   "metadata": {},
   "source": [
    "#  SBIRT GPRA Coding Data Joining\n",
    "Joing the multiple CSVs from the GPRA coding project due to the amount of pyton scripts fragmenting the data frame"
   ]
  },
  {
   "cell_type": "code",
   "execution_count": 1,
   "id": "b7955aa0",
   "metadata": {},
   "outputs": [],
   "source": [
    "import pandas as pd\n",
    "import datetime as dt\n",
    "from datetime import datetime"
   ]
  },
  {
   "cell_type": "code",
   "execution_count": 2,
   "id": "40f8f9fe",
   "metadata": {},
   "outputs": [],
   "source": [
    "#Importing data\n",
    "GPRA1 = pd.read_csv(r\"\\\\cdchomedir01\\home1\\tyogarro\\GPRA\\GPRA1_SBIRT.csv\", parse_dates = ['InterviewDate'])\n",
    "GPRA2 = pd.read_csv(r\"\\\\cdchomedir01\\home1\\tyogarro\\GPRA\\GPRA2_SBIRT.csv\")\n",
    "GPRA3 = pd.read_csv(r\"\\\\cdchomedir01\\home1\\tyogarro\\GPRA\\GPRA3_SBIRT.csv\")\n",
    "GPRA4 = pd.read_csv(r\"\\\\cdchomedir01\\home1\\tyogarro\\GPRA\\GPRA4_SBIRT.csv\")\n",
    "GPRA5 = pd.read_csv(r\"\\\\cdchomedir01\\home1\\tyogarro\\GPRA\\GPRA5_SBIRT.csv\")\n",
    "GPRA6 = pd.read_csv(r\"\\\\cdchomedir01\\home1\\tyogarro\\GPRA\\GPRA6_SBIRT.csv\")\n",
    "sf_client_id = pd.read_excel(r\"W:\\SBIRT\\NEW SBIRT Patients.xlsx\", sheet_name = 'SF')\n",
    "rt_client_id = pd.read_excel(r\"W:\\SBIRT\\NEW SBIRT Patients.xlsx\", sheet_name = 'RT')\n",
    "bi_client_id = pd.read_excel(r\"W:\\SBIRT\\NEW SBIRT Patients.xlsx\", sheet_name = 'BI')\n",
    "bt_client_id = pd.read_excel(r\"W:\\SBIRT\\NEW SBIRT Patients.xlsx\", sheet_name = 'BT')\n"
   ]
  },
  {
   "cell_type": "code",
   "execution_count": 3,
   "id": "377508ac",
   "metadata": {},
   "outputs": [],
   "source": [
    "# adding outcome column to ClientID datasets\n",
    "sf_client_id['Outcome'] = 'SF' \n",
    "rt_client_id['Outcome'] = 'RT'\n",
    "bi_client_id['Outcome'] = 'BI'\n",
    "bt_client_id['Outcome'] = 'BT'"
   ]
  },
  {
   "cell_type": "code",
   "execution_count": 4,
   "id": "ca297d41",
   "metadata": {},
   "outputs": [],
   "source": [
    "# creating list object to return relevant columns\n",
    "client_id_columns = ['Outcome', 'First Name','Last Name','MRN', 'New SPARS ID']\n",
    "\n",
    "#segmenting datasets\n",
    "sf_client_id = sf_client_id[client_id_columns]\n",
    "rt_client_id = rt_client_id[client_id_columns]\n",
    "bi_client_id = bi_client_id[client_id_columns]\n",
    "bt_client_id = bt_client_id[client_id_columns]\n",
    "\n",
    "# concating datasets\n",
    "client_id = pd.concat([sf_client_id,rt_client_id,bi_client_id,bt_client_id])\n",
    "\n",
    "# returning rows without blank MRNs\n",
    "client_id = client_id[~client_id['MRN'].isna()]\n",
    "\n",
    "# reanaming 'New SPARS ID' column\n",
    "client_id.rename(columns = {'New SPARS ID':'ClientID'}, inplace = True)"
   ]
  },
  {
   "cell_type": "code",
   "execution_count": 5,
   "id": "097e0b0c",
   "metadata": {},
   "outputs": [],
   "source": [
    "#Merging all of the GPRA files\n",
    "Full_GPRA_File = GPRA1.merge(GPRA2, on = 'ClientID', how = 'left')\\\n",
    "            .merge(GPRA3, on = 'ClientID', how = 'left')\\\n",
    "            .merge(GPRA4, on = 'ClientID', how = 'left')\\\n",
    "            .merge(GPRA5, on = 'ClientID', how = 'left')\\\n",
    "            .merge(GPRA6, on = 'ClientID', how = 'left')"
   ]
  },
  {
   "cell_type": "code",
   "execution_count": 6,
   "id": "c360d263",
   "metadata": {},
   "outputs": [],
   "source": [
    "#Subsetting dataset for merge to create IntakeDate Column \n",
    "Intake_Date_Merge = Full_GPRA_File[['ClientID','InterviewType','InterviewDate']]\n",
    "\n",
    "#Filtering dataset for intake\n",
    "Intake_Date_Merge = Intake_Date_Merge[Intake_Date_Merge['InterviewType'] == 1]\n",
    "\n",
    "#Subsetting dataset further\n",
    "Intake_Date_Merge = Intake_Date_Merge[['ClientID', 'InterviewDate']]\n",
    "\n",
    "#Renaming columns\n",
    "Intake_Date_Merge.rename(columns = {'InterviewDate':'IntakeDate'}, inplace = True)\n",
    "\n",
    "#Merging files\n",
    "Full_GPRA_File_SBIRT = Full_GPRA_File.merge(Intake_Date_Merge, on= 'ClientID', how = 'left')"
   ]
  },
  {
   "cell_type": "code",
   "execution_count": 7,
   "id": "a4977088",
   "metadata": {},
   "outputs": [],
   "source": [
    "Full_GPRA_File_SBIRT = Full_GPRA_File.merge(client_id, on= 'MRN', how = 'left')"
   ]
  },
  {
   "cell_type": "markdown",
   "id": "ba25665c",
   "metadata": {},
   "source": [
    "### Modify Current Upload Date Range"
   ]
  },
  {
   "cell_type": "code",
   "execution_count": 8,
   "id": "8cb69f65",
   "metadata": {},
   "outputs": [],
   "source": [
    "Current_Upload = '_04.07.25-04.13.25_'\n",
    "## Next Upload: '_04.14.25-04.20.25_'"
   ]
  },
  {
   "cell_type": "code",
   "execution_count": 9,
   "id": "78113dea",
   "metadata": {},
   "outputs": [],
   "source": [
    "# Date Filter for current date range\n",
    "Full_GPRA_File_SBIRT = Full_GPRA_File_SBIRT[Full_GPRA_File_SBIRT['InterviewDate']>='2025-04-07']"
   ]
  },
  {
   "cell_type": "code",
   "execution_count": 10,
   "id": "4e71b98d",
   "metadata": {},
   "outputs": [
    {
     "data": {
      "text/plain": [
       "array([1., 2., 5.])"
      ]
     },
     "execution_count": 10,
     "metadata": {},
     "output_type": "execute_result"
    }
   ],
   "source": [
    "Full_GPRA_File_SBIRT['InterviewType'].unique()"
   ]
  },
  {
   "cell_type": "code",
   "execution_count": 11,
   "id": "0755fb8b",
   "metadata": {},
   "outputs": [],
   "source": [
    "# creating dataframes based on interview type\n",
    "SBIRT_Intakes = Full_GPRA_File_SBIRT[Full_GPRA_File_SBIRT['InterviewType']==1]\n",
    "SBIRT_Follow_Ups = Full_GPRA_File_SBIRT[Full_GPRA_File_SBIRT['InterviewType']== 2]\n",
    "SBIRT_Discharges = Full_GPRA_File_SBIRT[Full_GPRA_File_SBIRT['InterviewType']== 5]\n",
    "\n",
    "# loading dataframes to csv files in submission location\n",
    "SBIRT_Intakes.to_csv('SBIRT_Batch_Upload'+Current_Upload+'Intakes.csv', index = False, header = True)\n",
    "SBIRT_Follow_Ups.to_csv('SBIRT_Batch_Upload'+Current_Upload+'Follow-Ups.csv', index = False, header = True)\n",
    "SBIRT_Discharges.to_csv('SBIRT_Batch_Upload'+Current_Upload+'Discharges.csv', index = False, header = True)"
   ]
  }
 ],
 "metadata": {
  "kernelspec": {
   "display_name": "Python 3 (ipykernel)",
   "language": "python",
   "name": "python3"
  },
  "language_info": {
   "codemirror_mode": {
    "name": "ipython",
    "version": 3
   },
   "file_extension": ".py",
   "mimetype": "text/x-python",
   "name": "python",
   "nbconvert_exporter": "python",
   "pygments_lexer": "ipython3",
   "version": "3.11.4"
  }
 },
 "nbformat": 4,
 "nbformat_minor": 5
}

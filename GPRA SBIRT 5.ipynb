{
 "cells": [
  {
   "cell_type": "markdown",
   "id": "2498c9fd",
   "metadata": {},
   "source": [
    "# SBIRT GRPA Coding\n",
    "\n",
    "Goverment Perfromance and Results Act (GPRA) coding for intake data of recovery specialist for the Institure for Prevention and Recovery (IFPR) at RWJ Baranabas"
   ]
  },
  {
   "cell_type": "code",
   "execution_count": 1,
   "id": "7e487610",
   "metadata": {},
   "outputs": [],
   "source": [
    "#importing pandas\n",
    "import pandas as pd\n",
    "import numpy as np"
   ]
  },
  {
   "cell_type": "code",
   "execution_count": 2,
   "id": "e9ffe513",
   "metadata": {},
   "outputs": [],
   "source": [
    "# importing data and parsing datetime columns\n",
    "df = pd.read_csv(r\"\\\\cdchomedir01\\home1\\tyogarro\\GPRA\\SBIRT_GPRA_Coding_File.csv\", parse_dates = ['ADMIT_DT','FORM_DTTM',\n",
    "                                                                                                'FORM_UPDATE_DTTM','DOB'])\n",
    "\n",
    "\n",
    "#subsetting to include Peer Recovery Program episodes\n",
    "df = df[df['EPISODE'] =='IFPR - SBIRT'].sort_values(by = ['FORM_DTTM','MRN']) # <- sorting df"
   ]
  },
  {
   "cell_type": "code",
   "execution_count": 3,
   "id": "f67a6951",
   "metadata": {},
   "outputs": [],
   "source": [
    "#Renaming column to create ClientID\n",
    "df.rename(columns = {'CSN':'ClientID'}, inplace = True)"
   ]
  },
  {
   "cell_type": "markdown",
   "id": "e827f75c",
   "metadata": {},
   "source": [
    "## Creating GPRA 5"
   ]
  },
  {
   "cell_type": "code",
   "execution_count": 4,
   "id": "7e98de97",
   "metadata": {},
   "outputs": [],
   "source": [
    "#Replacing null values with -9\n",
    "df['CURRENTLY_ENROLLED_IN_SCHOOL_OR_JOB_TRAINING'] = df['CURRENTLY_ENROLLED_IN_SCHOOL_OR_JOB_TRAINING'].fillna(-9)\n",
    "\n",
    "#Creating function to create column SchoolOrTrainingProgram\n",
    "def School_Or_TrainingProgram (x):\n",
    "    if x == 'NOT ENROLLED':\n",
    "        return 1\n",
    "    elif x == 'ENROLLED, FULL TIME':\n",
    "        return 2\n",
    "    elif x == 'ENROLLED, PART TIME':\n",
    "        return 3\n",
    "    elif x == 'REFUSED':\n",
    "        return -7\n",
    "    elif x == -9:\n",
    "        return -9\n",
    "    \n",
    "#Creating column SchoolOrTrainingProgram via applying the function School_Or_TrainingProgram (x)\n",
    "df['SchoolOrTrainingProgram'] = df['CURRENTLY_ENROLLED_IN_SCHOOL_OR_JOB_TRAINING'].apply(lambda x:School_Or_TrainingProgram (x))"
   ]
  },
  {
   "cell_type": "code",
   "execution_count": 5,
   "id": "e078b2a9",
   "metadata": {},
   "outputs": [],
   "source": [
    "#Replacing null values with -9\n",
    "df['HIGHEST_LEVEL_OF_EDUCATION'] = df['HIGHEST_LEVEL_OF_EDUCATION'].fillna(-9)\n",
    "\n",
    "#Creating function to create column Education\n",
    "def Education (x):\n",
    "    if x == 'LESS THAN 12TH GRADE':\n",
    "        return 1\n",
    "    elif x == '12TH GRADE/HIGH SCHOOL DIPLOMA/EQUIVALENT':\n",
    "        return 2\n",
    "    elif x == 'VOCATIONAL/TECHNICAL (VOC/TECH) DIPLOMA':\n",
    "        return 3\n",
    "    elif x == 'SOME COLLEGE OR UNIVERSITY':\n",
    "        return 4\n",
    "    elif x == 'BACHELOR’S DEGREE (FOR EXAMPLE - BA, BS)':\n",
    "        return 5\n",
    "    elif x == 'GRADUATE WORK/GRADUATE DEGREE':\n",
    "        return 6\n",
    "    elif x == 'OTHER (SPECIFY)':\n",
    "        return 7\n",
    "    elif x == 'REFUSED':\n",
    "        return -7\n",
    "    elif x == -9:\n",
    "        return -9\n",
    "    \n",
    "#Creating column Education via applying the function Education (x)\n",
    "df['Education'] = df['HIGHEST_LEVEL_OF_EDUCATION'].apply(lambda x:Education (x))"
   ]
  },
  {
   "cell_type": "code",
   "execution_count": 6,
   "id": "9a0cfc74",
   "metadata": {},
   "outputs": [],
   "source": [
    "#Replacing values\n",
    "df['EDUCATION_OTHER'] = df['EDUCATION_OTHER'].replace('Associated Degree','Associates')\n",
    "\n",
    "#Making characters uniform\n",
    "df['EDUCATION_OTHER'] = df['EDUCATION_OTHER'].str.title()\n",
    "\n",
    "#Replacing values \n",
    "df['EDUCATION_OTHER'] = df['EDUCATION_OTHER'].replace('Associates','Associates Degree')\n",
    "\n",
    "#Renaming\n",
    "df.rename(columns = {'EDUCATION_OTHER':'EducationSpec'},inplace = True)\n",
    "\n"
   ]
  },
  {
   "cell_type": "code",
   "execution_count": 7,
   "id": "10d6bb9d",
   "metadata": {},
   "outputs": [],
   "source": [
    "#Replacing null values with -9\n",
    "df['CURRENTLY_EMPLOYED'] = df['CURRENTLY_EMPLOYED'].fillna(-9)             \n",
    "\n",
    "#Creating function to create column EmployStatus\n",
    "def Employ_Status (x):\n",
    "    if x == 'EMPLOYED, FULL TIME (35+ HOURS PER WEEK, OR WOULD BE, IF NOT FOR LEAVE OR AN EXCUSED ABSENCE)':\n",
    "        return 1\n",
    "    elif x == 'EMPLOYED, PART TIME':\n",
    "        return 2\n",
    "    elif x == 'UNEMPLOYED—BUT LOOKING FOR WORK':\n",
    "        return 3\n",
    "    elif x == 'NOT EMPLOYED, NOT LOOKING FOR WORK':\n",
    "        return 7\n",
    "    elif x == 'NOT WORKING DUE TO A DISABILITY':\n",
    "        return 4\n",
    "    elif x == 'RETIRED, NOT WORKING':\n",
    "        return 6\n",
    "    elif x == 'OTHER (SPECIFY)':\n",
    "        return 0\n",
    "    elif x == 'REFUSED':\n",
    "        return -7\n",
    "    elif x == -9:\n",
    "        return -9\n",
    "    \n",
    "#Creating column EmployStatus via applying the function Employ_Status (x)\n",
    "df['EmployStatus'] = df['CURRENTLY_EMPLOYED'].apply(lambda x:Employ_Status (x))"
   ]
  },
  {
   "cell_type": "code",
   "execution_count": 8,
   "id": "667844b6",
   "metadata": {},
   "outputs": [],
   "source": [
    "#Renaming to create column\n",
    "df.rename(columns = {'EMPLOYMENT_OTHER':'EmployStatusSpec'},inplace = True)\n",
    "\n",
    "#Data Cleaning\n",
    "# df['EmployStatusSpec'] = df['EmployStatusSpec'].str.title()"
   ]
  },
  {
   "cell_type": "code",
   "execution_count": 9,
   "id": "ebacefc4",
   "metadata": {},
   "outputs": [],
   "source": [
    "#Creating function to create column Employment\n",
    "def Employment (x):\n",
    "    if x == 1 or x == 2:\n",
    "        return 1\n",
    "    elif x == 3 or x == 4 or x == 6 or x == 7:\n",
    "        return 2\n",
    "    elif x < 0:\n",
    "        return -9\n",
    "    \n",
    "#Creating column Employment via applying the function Employment (x)\n",
    "df['Employment'] = df['EmployStatus'].apply(lambda x: Employment (x))"
   ]
  },
  {
   "cell_type": "code",
   "execution_count": 10,
   "id": "56be0d17",
   "metadata": {},
   "outputs": [],
   "source": [
    "#Splitting column and returning first part of the split \n",
    "df['HAVE_ENOUGH_MONEY_FOR_LIVING_EXPENSES'] = df['HAVE_ENOUGH_MONEY_FOR_LIVING_EXPENSES'].str.split(',').str[0]\n",
    "\n",
    "#Replacing null values with -9\n",
    "df['HAVE_ENOUGH_MONEY_FOR_LIVING_EXPENSES'] = df['HAVE_ENOUGH_MONEY_FOR_LIVING_EXPENSES'].fillna(-9)\n",
    "\n",
    "#Creating function to create column EnoughMoneyFood \n",
    "def Enough_Money_Food (x):\n",
    "    if x == 'Food':\n",
    "        return 1\n",
    "    elif x == 'REFUSED':\n",
    "        return -9\n",
    "    elif x == -9:\n",
    "        return -9\n",
    "    else:\n",
    "        return 0\n",
    "    \n",
    "#Creating column EnoughMoneyFood via applying the function Enough_Money_Food (x)\n",
    "df['EnoughMoneyFood'] = df['HAVE_ENOUGH_MONEY_FOR_LIVING_EXPENSES'].apply(lambda x:Enough_Money_Food (x))"
   ]
  },
  {
   "cell_type": "code",
   "execution_count": 11,
   "id": "837884c1",
   "metadata": {},
   "outputs": [],
   "source": [
    "#Creating function to create column EnoughMoneyClothing\n",
    "def Enough_Money_Clothing (x):\n",
    "    if x == 'Clothing':\n",
    "        return 1\n",
    "    elif x == 'REFUSED':\n",
    "        return -9\n",
    "    elif x == -9:\n",
    "        return -9\n",
    "    else:\n",
    "        return 0\n",
    "#Creating column EnoughMoneyClothing via applying the function Enough_Money_Clothing (x)\n",
    "df['EnoughMoneyClothing'] = df['HAVE_ENOUGH_MONEY_FOR_LIVING_EXPENSES'].apply(lambda x:Enough_Money_Clothing (x))"
   ]
  },
  {
   "cell_type": "code",
   "execution_count": 12,
   "id": "75fef94a",
   "metadata": {},
   "outputs": [],
   "source": [
    "#Creating function to create column EnoughMoneyTransport\n",
    "def Enough_Money_Transport (x):\n",
    "    if x == 'Transportation':\n",
    "        return 1\n",
    "    elif x == 'REFUSED':\n",
    "        return -9\n",
    "    elif x == -9:\n",
    "        return -9\n",
    "    else:\n",
    "        return 0\n",
    "#Creating column EnoughMoneyTransport via applying the function Enough_Money_Transport (x)\n",
    "df['EnoughMoneyTransport'] = df['HAVE_ENOUGH_MONEY_FOR_LIVING_EXPENSES'].apply(lambda x:Enough_Money_Transport (x))"
   ]
  },
  {
   "cell_type": "code",
   "execution_count": 13,
   "id": "8587451c",
   "metadata": {},
   "outputs": [],
   "source": [
    "#Creating function to create column EnoughMoneyRentHousing\n",
    "def Enough_Money_Rent_Housing (x):\n",
    "    if x == 'Rent/Housing':\n",
    "        return 1\n",
    "    elif x == 'REFUSED':\n",
    "        return -9\n",
    "    elif x == -9:\n",
    "        return -9\n",
    "    else:\n",
    "        return 0\n",
    "#Creating column EnoughMoneyRentHousing via the function Enough_Money_Rent_Housing (x)\n",
    "df['EnoughMoneyRentHousing'] = df['HAVE_ENOUGH_MONEY_FOR_LIVING_EXPENSES'].apply(lambda x:Enough_Money_Rent_Housing (x))"
   ]
  },
  {
   "cell_type": "code",
   "execution_count": 14,
   "id": "08690126",
   "metadata": {},
   "outputs": [],
   "source": [
    "#Creating function to create column EnoughMoneyUtilities\n",
    "def Enough_Money_Utilities (x):\n",
    "    if x == 'Utilities (Gas/Water/Electric)':\n",
    "        return 1\n",
    "    elif x == 'REFUSED':\n",
    "        return -9\n",
    "    elif x == -9:\n",
    "        return -9\n",
    "    else:\n",
    "        return 0\n",
    "    \n",
    "#Creating column EnoughMoneyUtilities via applying the function Enough_Money_Utilities (x)\n",
    "df['EnoughMoneyUtilities'] = df['HAVE_ENOUGH_MONEY_FOR_LIVING_EXPENSES'].apply(lambda x:Enough_Money_Utilities (x))"
   ]
  },
  {
   "cell_type": "code",
   "execution_count": 15,
   "id": "3a6fdfdf",
   "metadata": {},
   "outputs": [],
   "source": [
    "#Creating function to create column EnoughMoneyPhone\n",
    "def Enough_Money_Phone (x):\n",
    "    if x == 'Telephone Connection (Cell or Landline)':\n",
    "        return 1\n",
    "    elif x == 'REFUSED':\n",
    "        return -9\n",
    "    elif x == -9:\n",
    "        return -9\n",
    "    else:\n",
    "        return 0\n",
    "\n",
    "#Creating column EnoughMoneyPhone via applying the function Enough_Money_Phone (x)\n",
    "df['EnoughMoneyPhone'] = df['HAVE_ENOUGH_MONEY_FOR_LIVING_EXPENSES'].apply(lambda x:Enough_Money_Phone (x))"
   ]
  },
  {
   "cell_type": "code",
   "execution_count": 16,
   "id": "a6989ea1",
   "metadata": {},
   "outputs": [],
   "source": [
    "#Creating function to create column EnoughMoneyChildcare\n",
    "def Enough_Money_Childcare (x):\n",
    "    if x == 'Childcare':\n",
    "        return 1\n",
    "    elif x == 'REFUSED':\n",
    "        return -9\n",
    "    elif x == -9:\n",
    "        return -9\n",
    "    else:\n",
    "        return 0\n",
    "    \n",
    "#Creating column EnoughMoneyChildcare via applying the function Enough_Money_Childcare (x)\n",
    "df['EnoughMoneyChildcare'] = df['HAVE_ENOUGH_MONEY_FOR_LIVING_EXPENSES'].apply(lambda x:Enough_Money_Childcare (x))"
   ]
  },
  {
   "cell_type": "code",
   "execution_count": 17,
   "id": "56f8da39",
   "metadata": {},
   "outputs": [],
   "source": [
    "#Creating function to create column EnoughMoneyHealthIns\n",
    "def Enough_Money_HealthIns (x):\n",
    "    if x == 'Health Insurance':\n",
    "        return 1\n",
    "    elif x == 'REFUSED':\n",
    "        return -9\n",
    "    elif x == -9:\n",
    "        return -9\n",
    "    else:\n",
    "        return 0\n",
    "    \n",
    "#Creating column EnoughMoneyHealthIns via applying the function Enough_Money_HealthIns (x)\n",
    "df['EnoughMoneyHealthIns'] = df['HAVE_ENOUGH_MONEY_FOR_LIVING_EXPENSES'].apply(lambda x:Enough_Money_HealthIns (x))"
   ]
  },
  {
   "cell_type": "code",
   "execution_count": 18,
   "id": "146e1d78",
   "metadata": {},
   "outputs": [],
   "source": [
    "#Replacing null values with -9\n",
    "df['PERSONAL_ANNUAL_INCOME'] = df['PERSONAL_ANNUAL_INCOME'].fillna(-9)\n",
    "\n",
    "#Creating function to create column Income\n",
    "def Income (x):\n",
    "    if x == -9:\n",
    "        return -9\n",
    "    elif x == 'REFUSED':\n",
    "        return -7\n",
    "    elif x == '$0 to $9,999':\n",
    "        return 1\n",
    "    elif x == '$10,000 to $14,999':\n",
    "        return 2\n",
    "    elif x == '$15,000 to $19,999':\n",
    "        return 3\n",
    "    elif x == '$20,000 to $34,999':\n",
    "        return 4\n",
    "    elif x == '$35,000 to $49,999':\n",
    "        return 5\n",
    "    elif x == '$50,000 to $74,999':\n",
    "        return 6\n",
    "    elif x == '$100,000 to $199,999':\n",
    "        return 8\n",
    "    \n",
    "#Creating column Income via applying the function Income (x)PERSONAL_ANNUAL_INCOME\n",
    "df['Income'] = df['PERSONAL_ANNUAL_INCOME'].apply(lambda x:Income (x))"
   ]
  },
  {
   "cell_type": "code",
   "execution_count": 19,
   "id": "37e941ea",
   "metadata": {},
   "outputs": [],
   "source": [
    "#Replacing null values with -9\n",
    "df['NUMBER_OF_TIMES_ARRESTED']= df['NUMBER_OF_TIMES_ARRESTED'].fillna(-9)\n",
    "\n",
    "#Renaming to create columns ArrestedDays\n",
    "df.rename(columns = {'NUMBER_OF_TIMES_ARRESTED':'ArrestedDays'},inplace = True)"
   ]
  },
  {
   "cell_type": "code",
   "execution_count": 20,
   "id": "5b574848",
   "metadata": {},
   "outputs": [],
   "source": [
    "#Replacing null values with -9\n",
    "df['HOW_MANY_TIMES_ARRESTED_IN_PAST_30_DAYS'] = df['HOW_MANY_TIMES_ARRESTED_IN_PAST_30_DAYS'].fillna(-9)\n",
    "\n",
    "#Creating function to create column Incarcerated\n",
    "def Incarcerated (x):\n",
    "    if x == 'Patient reports zero arrests':\n",
    "        return 0\n",
    "    elif x == 'Specify number of times':\n",
    "        return 1\n",
    "    elif x == 'REFUSED':\n",
    "        return -7\n",
    "    elif x == -9:\n",
    "        return -9\n",
    "    else:\n",
    "        return -9\n",
    "    \n",
    "#Creating column Incarcerated via applying the function Incarcerated (x)\n",
    "df['Incarcerated'] = df['HOW_MANY_TIMES_ARRESTED_IN_PAST_30_DAYS'].apply(lambda x:Incarcerated (x))"
   ]
  },
  {
   "cell_type": "code",
   "execution_count": 21,
   "id": "97fe4a97",
   "metadata": {},
   "outputs": [],
   "source": [
    "#Replacing null values with -9\n",
    "df['CURRENTLY_AWAITING_CHARGES_TRIAL_OR_SENTENCING'] = df['CURRENTLY_AWAITING_CHARGES_TRIAL_OR_SENTENCING'].fillna(-9)\n",
    "\n",
    "#Creating function to create column AwaitTrial\n",
    "def Await_Trial (x):\n",
    "    if x == 'Yes':\n",
    "        return 1\n",
    "    elif x == 'No':\n",
    "        return 0\n",
    "    elif x == 'REFUSED':\n",
    "        return -7\n",
    "    elif x == -9:\n",
    "        return -9\n",
    "    \n",
    "#Creating column AwaitTrial via applying the function Await_Trial (x)\n",
    "df['AwaitTrial'] = df['CURRENTLY_AWAITING_CHARGES_TRIAL_OR_SENTENCING'].apply(lambda x:Await_Trial (x))"
   ]
  },
  {
   "cell_type": "code",
   "execution_count": 22,
   "id": "4edd167d",
   "metadata": {},
   "outputs": [],
   "source": [
    "#Replacing null values with -9\n",
    "df['CURRENTLY_ON_PAROLE_PROBATION_OR_PRETRIAL_SUPERVISION'] = df['CURRENTLY_ON_PAROLE_PROBATION_OR_PRETRIAL_SUPERVISION'].fillna(-9)\n",
    "\n",
    "#Creating function to create column ParoleProb\n",
    "def Parole_Prob (x):\n",
    "    if x == 'Probation':\n",
    "        return 1\n",
    "    elif x == 'Parole':\n",
    "        return 2\n",
    "    elif x == 'Intensive Pretrial Supervision':\n",
    "        return 3\n",
    "    elif x == 'No':\n",
    "        return 4\n",
    "    elif x == 'REFUSED':\n",
    "        return -7\n",
    "    elif x == -9:\n",
    "        return -9\n",
    "    \n",
    "#Creating column ParoleProb via applying the function Parole_Prob (x)\n",
    "df['ParoleProb'] = df['CURRENTLY_ON_PAROLE_PROBATION_OR_PRETRIAL_SUPERVISION'].apply(lambda x:Parole_Prob (x))"
   ]
  },
  {
   "cell_type": "code",
   "execution_count": 23,
   "id": "1801dbb0",
   "metadata": {},
   "outputs": [],
   "source": [
    "#Replacing null values with -9\n",
    "df['CURRENTLY_PARTICIPATE_IN_DRUG_COURT'] = df['CURRENTLY_PARTICIPATE_IN_DRUG_COURT'].fillna(-9)\n",
    "\n",
    "#Creating function to create column DrugCourtDeferredProsec\n",
    "def Drug_Court_DeferredProsec (x):\n",
    "    if x == 'Drug court program':\n",
    "        return 1\n",
    "    elif x == 'Deferred prosecution agreement, Drug court program':\n",
    "        return 2\n",
    "    elif x == 'No, neither of these':\n",
    "        return 3\n",
    "    elif x == 'REFUSED':\n",
    "        return -7\n",
    "    elif x == -9:\n",
    "        return -9\n",
    "    \n",
    "#Creating column DrugCourtDeferredProsec via applying the function Drug_Court_DeferredProsec (x\n",
    "df['DrugCourtDeferredProsec'] = df['CURRENTLY_PARTICIPATE_IN_DRUG_COURT'].apply(lambda x:Drug_Court_DeferredProsec (x))"
   ]
  },
  {
   "cell_type": "code",
   "execution_count": 24,
   "id": "8d0bfcf1",
   "metadata": {},
   "outputs": [],
   "source": [
    "#fill null values\n",
    "df['QUALITY_OF_LIFE_PAST_30_DAYS'] = df['QUALITY_OF_LIFE_PAST_30_DAYS'].fillna(-9)\n",
    "\n",
    "#Creating a function to create column LifeQuality\n",
    "def Life_Quality (x):\n",
    "    if x == 'Very poor':\n",
    "        return 1\n",
    "    elif x == 'Poor':\n",
    "        return 2\n",
    "    elif x == 'Neither poor nor good':\n",
    "        return 3\n",
    "    elif x == 'Good':\n",
    "        return 4\n",
    "    elif x == 'Very good':\n",
    "        return 5\n",
    "    elif x == 'REFUSED':\n",
    "        return -7\n",
    "    elif x == -9:\n",
    "        return -9\n",
    "    else:\n",
    "        return -9\n",
    "    \n",
    "#Creating column LifeQuality via applying the function Life_Quality (x)\n",
    "df['LifeQuality'] = df['QUALITY_OF_LIFE_PAST_30_DAYS'].apply(lambda x:Life_Quality (x))"
   ]
  },
  {
   "cell_type": "code",
   "execution_count": 25,
   "id": "f18f3462",
   "metadata": {},
   "outputs": [],
   "source": [
    "#Creating a dictionary to rename\n",
    "dict_rename = {'SERIOUS_DEPRESSION_NUMBER_OF_DAYS':'Depression','SERIOUS_ANXIETY_OR_TENSION_NUMBER_OF_DAYS':'Anxiety',\n",
    "               'HALLUCINATIONS_NUMBER_OF_DAYS':'Hallucinations','TROUBLE_UNDERSTANDING_CONCENTRATING_OR_REMEMBERING_NUMBER_OF_DAYS':'BrainFunction',\n",
    "               'VIOLENT_BEHAVIOR_NUMBER_OF_DAYS':'ViolentBehavior','ATTEMPTED_SUICIDE_NUMBER_OF_DAYS':'Suicide',\n",
    "               'MEDICATION_FOR_PSYCHOLOGICAL_PROBLEM_NUMBER_OF_DAYS':'PsycholEmotMedication'}\n",
    "#Rename\n",
    "df.rename(columns = dict_rename,inplace = True)\n",
    "\n",
    "#Creating variable\n",
    "col_fill = ['Depression','Anxiety','Hallucinations','BrainFunction','ViolentBehavior','Suicide','PsycholEmotMedication']\n",
    "\n",
    "#Replacing null values with -9\n",
    "df[col_fill] = df[col_fill].fillna(-9)\n",
    "\n",
    "#Replace -1 with 1\n",
    "df['ViolentBehavior'] = df['ViolentBehavior'].replace(-1,1)"
   ]
  },
  {
   "cell_type": "code",
   "execution_count": 26,
   "id": "9866cdd1",
   "metadata": {},
   "outputs": [],
   "source": [
    "#Replacing null values with -9\n",
    "df['HOW_BOTHERED_BY_PSYCHOLOGICAL_PROBLEMS_IN_PAST_30_DAYS'] = df['HOW_BOTHERED_BY_PSYCHOLOGICAL_PROBLEMS_IN_PAST_30_DAYS'].fillna(-9)\n",
    "\n",
    "#Creating function to create column PsycholEmotImpact\n",
    "def Psychol_Emot_Impact (x):\n",
    "    if x == 'Not at all':\n",
    "        return 1\n",
    "    elif x == 'Slightly':\n",
    "        return 2\n",
    "    elif x == 'Moderately':\n",
    "        return 3\n",
    "    elif x == 'Considerably':\n",
    "        return 4\n",
    "    elif x == 'Extremely':\n",
    "        return 5\n",
    "    elif x == 'NO REPORTED MENTAL HEALTH COMPLAINTS IN THE PAST 30 DAYS':\n",
    "        return 6\n",
    "    elif x == 'REFUSED':\n",
    "        return -7\n",
    "    elif x == -9:\n",
    "        return -9\n",
    "    \n",
    "#Renaming column to create column PsycholEmotImpact via applying the function Psychol_Emot_Impact (x)\n",
    "df['PsycholEmotImpact'] = df['HOW_BOTHERED_BY_PSYCHOLOGICAL_PROBLEMS_IN_PAST_30_DAYS'].apply(lambda x:Psychol_Emot_Impact (x))"
   ]
  },
  {
   "cell_type": "code",
   "execution_count": 27,
   "id": "613081a3",
   "metadata": {},
   "outputs": [],
   "source": [
    "# Creating substring\n",
    "df['WHERE_RECEIVED_MEDICAL_CARE_IN_PAST_30_DAYS'] = df['WHERE_RECEIVED_MEDICAL_CARE_IN_PAST_30_DAYS'].str.split(',').str[0]\n",
    "\n",
    "#Replacing null values with -9\n",
    "df['WHERE_RECEIVED_MEDICAL_CARE_IN_PAST_30_DAYS'] = df['WHERE_RECEIVED_MEDICAL_CARE_IN_PAST_30_DAYS'].fillna(-9)\n",
    "\n",
    "\n",
    "#Creating function to create column ReceivedMedCarePCP\n",
    "def Received_MedCare_PCP (x):\n",
    "    if x == 'Primary Care Provider':\n",
    "        return 1\n",
    "    elif x == -9:\n",
    "        return -9\n",
    "    else:\n",
    "        return 0\n",
    "    \n",
    "#Renaming column to create column ReceivedMedCarePCP via applying the function Received_MedCare_PCP (x)\n",
    "df['ReceivedMedCarePCP'] = df['WHERE_RECEIVED_MEDICAL_CARE_IN_PAST_30_DAYS'].apply(lambda x:Received_MedCare_PCP (x))"
   ]
  },
  {
   "cell_type": "code",
   "execution_count": 28,
   "id": "48e10c4f",
   "metadata": {},
   "outputs": [],
   "source": [
    "#Creating function to create column ReceivedMedCareUrgentCare\n",
    "def Received_Med_CareUrgentCare (x):\n",
    "    if x == 'Urgent Care':\n",
    "        return 1\n",
    "    elif x == -9:\n",
    "        return -9\n",
    "    else:\n",
    "        return 0\n",
    "\n",
    "    \n",
    "#Creating column ReceivedMedCarePCP via applying the function Received_Med_CareUrgentCare (x)\n",
    "df['ReceivedMedCareUrgentCare'] = df['WHERE_RECEIVED_MEDICAL_CARE_IN_PAST_30_DAYS'].apply(lambda x:Received_Med_CareUrgentCare (x))"
   ]
  },
  {
   "cell_type": "code",
   "execution_count": 29,
   "id": "fc91fbcf",
   "metadata": {},
   "outputs": [],
   "source": [
    "#Creating function to create column ReceivedMedCareED\n",
    "def Received_Med_CareED (x):\n",
    "    if  x == 'The Emergency Department':\n",
    "        return 1\n",
    "    elif x == -9:\n",
    "        return -9\n",
    "    else:\n",
    "        return 0\n",
    "    \n",
    "#Creating column ReceivedMedCareED via appying the function Received_Med_CareED (x)\n",
    "df['ReceivedMedCareED'] = df['WHERE_RECEIVED_MEDICAL_CARE_IN_PAST_30_DAYS'].apply(lambda x: Received_Med_CareED (x))"
   ]
  },
  {
   "cell_type": "code",
   "execution_count": 30,
   "id": "727989a7",
   "metadata": {},
   "outputs": [],
   "source": [
    "#Creating function to create column ReceivedMedCareSpecialist\n",
    "def Received_Med_CareSpecialist (x): \n",
    "    if x == 'A specialist doctor':\n",
    "        return 1\n",
    "    elif x == -9:\n",
    "        return -9\n",
    "    else:\n",
    "        return 0\n",
    "\n",
    "#Creating column ReceivedMedCareSpecialist via applying the function Received_Med_CareSpecialist (x)\n",
    "df['ReceivedMedCareSpecialist'] = df['WHERE_RECEIVED_MEDICAL_CARE_IN_PAST_30_DAYS'].apply(lambda x:Received_Med_CareSpecialist (x))"
   ]
  },
  {
   "cell_type": "code",
   "execution_count": 31,
   "id": "635e5375",
   "metadata": {},
   "outputs": [],
   "source": [
    "#Creating function to create column ReceivedMedCareNoCareSought\n",
    "def ReceivedMed_CareNo_CareSought (x):\n",
    "    if x == 'No care was sought':\n",
    "        return 1\n",
    "    elif x == -9:\n",
    "        return -9\n",
    "    else:\n",
    "        return 0\n",
    "    \n",
    "\n",
    "#Creating column ReceivedMedCareNoCareSought via applying the function ReceivedMed_CareNo_CareSought (x)\n",
    "df['ReceivedMedCareNoCareSought'] = df['WHERE_RECEIVED_MEDICAL_CARE_IN_PAST_30_DAYS'].apply(lambda x: ReceivedMed_CareNo_CareSought (x))"
   ]
  },
  {
   "cell_type": "code",
   "execution_count": 32,
   "id": "41c8d557",
   "metadata": {},
   "outputs": [],
   "source": [
    "#Creating function to create column ReceivedMedCareOther\n",
    "def Received_MedCare_Other (x):\n",
    "    if x == 'Other (SPECIFY)':\n",
    "        return 1\n",
    "    elif x == -9:\n",
    "        return -9\n",
    "    else:\n",
    "        return 0\n",
    "    \n",
    "#Creating column ReceivedMedCareOther via applying the function Received_MedCare_Other (x)\n",
    "df['ReceivedMedCareOther'] = df['WHERE_RECEIVED_MEDICAL_CARE_IN_PAST_30_DAYS'].apply(lambda x: Received_MedCare_Other (x))"
   ]
  },
  {
   "cell_type": "code",
   "execution_count": 33,
   "id": "e1c7deb0",
   "metadata": {},
   "outputs": [],
   "source": [
    "#Rename\n",
    "df.rename(columns = {'MEDICAL_CARE_OTHER':'ReceivedMedCareSpec'},inplace = True)\n",
    "\n",
    "#Renaming column to create column ReceivedMedCareSpec\n",
    "# df['ReceivedMedCareSpec'] = df['ReceivedMedCareSpec'].str.title()"
   ]
  },
  {
   "cell_type": "code",
   "execution_count": 34,
   "id": "e662e5fa",
   "metadata": {},
   "outputs": [],
   "source": [
    "#Replacing null values with -9\n",
    "df['CURRENTLY_HAVE_HEALTH_INSURANCE'] = df['CURRENTLY_HAVE_HEALTH_INSURANCE'].fillna(-9)\n",
    "\n",
    "#Creating function to create column MedInsuranceStatus\n",
    "def Med_Insurance_Status (x):\n",
    "    if x == 'Yes':\n",
    "        return 1\n",
    "    elif x == -9:\n",
    "        return -9\n",
    "    elif x == 'REFUSED (GO TO NEXT SECTION)':\n",
    "        return -7\n",
    "    elif x == 'No (GO TO NEXT SECTION)':\n",
    "        return 0\n",
    "    \n",
    "\n",
    "#Creating column MedInsuranceStatus via applying the function Med_Insurance_Status (x)\n",
    "df['MedInsuranceStatus'] = df['CURRENTLY_HAVE_HEALTH_INSURANCE'].apply(lambda x: Med_Insurance_Status (x))"
   ]
  },
  {
   "cell_type": "code",
   "execution_count": 35,
   "id": "2ceb43d9",
   "metadata": {
    "scrolled": true
   },
   "outputs": [],
   "source": [
    "#Creating substrings\n",
    "df['TYPE_OF_INSURANCE'] = df['TYPE_OF_INSURANCE'].str.split(',').str[0]\n",
    "\n",
    "#Replacing null values with -9\n",
    "df['TYPE_OF_INSURANCE'] = df['TYPE_OF_INSURANCE'].fillna(-9)\n",
    "\n",
    "\n",
    "#Creating function to create column MedInsTypeMedicaid\n",
    "def MedIns_TypeMedicaid (row):\n",
    "    if row['MedInsuranceStatus'] in([0,-7,-9]):\n",
    "        return -1\n",
    "    elif row['TYPE_OF_INSURANCE'] == 'Medicaid':\n",
    "        return 1\n",
    "    elif row['TYPE_OF_INSURANCE'] == -9:\n",
    "        return -9\n",
    "    else:\n",
    "        return 0\n",
    "\n",
    "#Creating column MedInsTypeMedicaid via applying the function MedIns_TypeMedicaid (x)\n",
    "df['MedInsTypeMedicaid'] = df.apply(MedIns_TypeMedicaid,axis=1)"
   ]
  },
  {
   "cell_type": "code",
   "execution_count": 36,
   "id": "793335e0",
   "metadata": {},
   "outputs": [],
   "source": [
    "#Creating function to create column MedInsTypeMedicare\n",
    "def Med_Ins_TypeMedicare (row):\n",
    "    if row['MedInsuranceStatus'] in([0,-7,-9]):\n",
    "        return -1\n",
    "    elif row['TYPE_OF_INSURANCE'] == 'Medicare':\n",
    "        return 1\n",
    "    elif row['TYPE_OF_INSURANCE'] == -9:\n",
    "        return -9\n",
    "    else:\n",
    "        return 0\n",
    "\n",
    "#Creating column MedInsTypeMedicare via applying the function Med_Ins_TypeMedicare (x)\n",
    "df['MedInsTypeMedicare'] = df.apply( Med_Ins_TypeMedicare,axis=1)"
   ]
  },
  {
   "cell_type": "code",
   "execution_count": 37,
   "id": "9dc62b37",
   "metadata": {},
   "outputs": [],
   "source": [
    "#Creating function to create column MedInsTypePrivateOrEmployer\n",
    "def MedIns_Type_PrivateOrEmployer (row):\n",
    "    \n",
    "    if row['MedInsuranceStatus'] in([0,-7,-9]):\n",
    "        return -1\n",
    "    elif row['TYPE_OF_INSURANCE'] == 'Private Insurance or Employer Provided':\n",
    "        return 1\n",
    "    elif row['TYPE_OF_INSURANCE'] == -9:\n",
    "        return -9\n",
    "    else:\n",
    "        return 0\n",
    "\n",
    "#Creating column MedInsTypePrivateOrEmployer via applying the function MedIns_Type_PrivateOrEmployer (x)\n",
    "df['MedInsTypePrivateOrEmployer'] = df.apply(MedIns_Type_PrivateOrEmployer,axis=1)"
   ]
  },
  {
   "cell_type": "code",
   "execution_count": 38,
   "id": "99cce965",
   "metadata": {},
   "outputs": [],
   "source": [
    "#Creating function to create MedInsTypeMilitary\n",
    "def MedIns_TypeMilitary (row):\n",
    "    if row['MedInsuranceStatus'] in([0,-7,-9]):\n",
    "        return -1\n",
    "    elif row['TYPE_OF_INSURANCE'] == 'TRICARE':\n",
    "        return 1\n",
    "    elif row['TYPE_OF_INSURANCE'] == -9:\n",
    "        return -9\n",
    "    else:\n",
    "        return 0\n",
    "\n",
    "#Creating column MedInsTypeMilitary via applying the function MedIns_TypeMilitary (x)\n",
    "df['MedInsTypeMilitary'] = df.apply(MedIns_TypeMilitary,axis=1)"
   ]
  },
  {
   "cell_type": "code",
   "execution_count": 39,
   "id": "7c9f3b14",
   "metadata": {},
   "outputs": [],
   "source": [
    "#Creating function to create MedInsTypeAssistanceProgram\n",
    "def MedIns_TypeAssistanceProgram (row):\n",
    "    if row['MedInsuranceStatus'] in([0,-7,-9]):\n",
    "        return -1\n",
    "    if row['TYPE_OF_INSURANCE'] == 'a medication assistance program':\n",
    "        return 1\n",
    "    elif row['TYPE_OF_INSURANCE'] == -9:\n",
    "        return -9\n",
    "    else:\n",
    "        return 0\n",
    "\n",
    "#Creating column MedInsTypeAssistanceProgram via applying the function MedIns_TypeAssistanceProgram (x)\n",
    "df['MedInsTypeAssistanceProgram'] = df.apply(MedIns_TypeAssistanceProgram,axis=1)"
   ]
  },
  {
   "cell_type": "code",
   "execution_count": 40,
   "id": "158ea3f5",
   "metadata": {},
   "outputs": [],
   "source": [
    "#Creating function to create MedInsTypeOther\n",
    "def MedIns_TypeOther (row):\n",
    "    if row['MedInsuranceStatus'] in([0,-7,-9]):\n",
    "        return -1\n",
    "    elif row['TYPE_OF_INSURANCE'] == 'Any other type of health insurance or health coverage plan (SPECIFY)':\n",
    "        return 1\n",
    "    elif row['TYPE_OF_INSURANCE'] == -9:\n",
    "        return -9\n",
    "    else:\n",
    "        return 0\n",
    "\n",
    "#Creating column MedInsTypeOther via applying the function MedIns_TypeOther (x)\n",
    "df['MedInsTypeOther'] = df.apply(MedIns_TypeOther,axis=1)"
   ]
  },
  {
   "cell_type": "code",
   "execution_count": 41,
   "id": "c796c834",
   "metadata": {},
   "outputs": [],
   "source": [
    "#Rename columm\n",
    "df.rename(columns = {'INSURANCE_OTHER':'MedInsTypeSpec'},inplace = True)\n",
    "\n",
    "\n",
    "#Renaming column to create column MedInsTypeSpec\n",
    "# df['MedInsTypeSpec'] = df['MedInsTypeSpec'].str.title()\n"
   ]
  },
  {
   "cell_type": "code",
   "execution_count": 42,
   "id": "9ca65b26",
   "metadata": {},
   "outputs": [],
   "source": [
    "#Replacing null values with -9\n",
    "df['ATTEND_VOLUNTARY_RECOVERY_SUPPORT_GROUPS_IN_PAST_30_DAYS'] = df['ATTEND_VOLUNTARY_RECOVERY_SUPPORT_GROUPS_IN_PAST_30_DAYS'].fillna(-9)\n",
    "\n",
    "#Creating function to create column AttendVoluntary\n",
    "def Attend_Voluntary (x):\n",
    "    if x == 'Yes':\n",
    "        return 1\n",
    "    elif x == 'No':\n",
    "        return 0\n",
    "    elif x == -9:\n",
    "        return -9\n",
    "    elif x == 'REFUSED':\n",
    "        return -7\n",
    "\n",
    "#Creating column AttendVoluntary via applying the function Attend_Voluntary (x)\n",
    "df['AttendVoluntary'] = df['ATTEND_VOLUNTARY_RECOVERY_SUPPORT_GROUPS_IN_PAST_30_DAYS'].apply(lambda x:Attend_Voluntary (x))"
   ]
  },
  {
   "cell_type": "code",
   "execution_count": 43,
   "id": "dc557713",
   "metadata": {},
   "outputs": [
    {
     "data": {
      "text/plain": [
       "-9         14\n",
       "No         11\n",
       "REFUSED     1\n",
       "Name: ATTEND_VOLUNTARY_RECOVERY_SUPPORT_GROUPS_IN_PAST_30_DAYS, dtype: int64"
      ]
     },
     "execution_count": 43,
     "metadata": {},
     "output_type": "execute_result"
    }
   ],
   "source": [
    "df['ATTEND_VOLUNTARY_RECOVERY_SUPPORT_GROUPS_IN_PAST_30_DAYS'].value_counts()"
   ]
  },
  {
   "cell_type": "code",
   "execution_count": 44,
   "id": "13a00ad1",
   "metadata": {},
   "outputs": [
    {
     "data": {
      "text/plain": [
       "-9    14\n",
       " 0    11\n",
       "-7     1\n",
       "Name: AttendVoluntary, dtype: int64"
      ]
     },
     "execution_count": 44,
     "metadata": {},
     "output_type": "execute_result"
    }
   ],
   "source": [
    "df['AttendVoluntary'].value_counts()"
   ]
  },
  {
   "cell_type": "code",
   "execution_count": 45,
   "id": "97b89ca6",
   "metadata": {},
   "outputs": [],
   "source": [
    "#Renaming to create column AttendVoluntaryTimes\n",
    "df.rename(columns = {'HOW_MANY_TIMES':'AttendVoluntaryTimes'},inplace = True)\n",
    "df['AttendVoluntaryTimes'] = df['AttendVoluntaryTimes'].fillna(-1)"
   ]
  },
  {
   "cell_type": "code",
   "execution_count": 46,
   "id": "61f656bc",
   "metadata": {},
   "outputs": [],
   "source": [
    "#Replacing null values with -9\n",
    "df['INTERACT_WITH_SUPPORTIVE_FAMILY_FRIENDS_IN_PAST_30_DAYS'] = df['INTERACT_WITH_SUPPORTIVE_FAMILY_FRIENDS_IN_PAST_30_DAYS'].fillna(-9)\n",
    "\n",
    "#Creating function to create column InteractFamilyFriends\n",
    "def Interact_FamilyFriends (x):\n",
    "    if x == 'Yes':\n",
    "        return 1\n",
    "    elif x == 'No':\n",
    "        return 0\n",
    "    elif x == 'REFUSED':\n",
    "        return -7\n",
    "    elif x == -9:\n",
    "        return -9\n",
    "    \n",
    "#Creating column InteractFamilyFriends via applying the function Interact_FamilyFriends (x)\n",
    "df['InteractFamilyFriends'] = df['INTERACT_WITH_SUPPORTIVE_FAMILY_FRIENDS_IN_PAST_30_DAYS'].apply(lambda x:Interact_FamilyFriends (x))"
   ]
  },
  {
   "cell_type": "code",
   "execution_count": 47,
   "id": "679c53f1",
   "metadata": {},
   "outputs": [],
   "source": [
    "#Replacing null values with -9\n",
    "df['HOW_SATISFIED_WITH_PERSONAL_RELATIONSHIPS'] = df['HOW_SATISFIED_WITH_PERSONAL_RELATIONSHIPS'].fillna(-9)\n",
    "\n",
    "#Creating function to create column RelationshipSatisfaction\n",
    "def Relationship_Satisfaction (x):\n",
    "    if x == 'Very Dissatisfied':\n",
    "        return 5\n",
    "    elif x == 'Dissatisfied':\n",
    "        return 4\n",
    "    elif x == 'Neither Satisfied nor Dissatisfied':\n",
    "        return 3\n",
    "    elif x == 'Satisfied':\n",
    "        return 2\n",
    "    elif x == 'Very Satisfied':\n",
    "        return 1\n",
    "    elif x == 'REFUSED':\n",
    "        return -7\n",
    "    elif x == -9:\n",
    "        return -9\n",
    "    \n",
    "#Creating column RelationshipSatisfaction via applying the function Relationship_Satisfaction (x)\n",
    "df['RelationshipSatisfaction'] = df['HOW_SATISFIED_WITH_PERSONAL_RELATIONSHIPS'].apply(lambda x:Relationship_Satisfaction (x))"
   ]
  },
  {
   "cell_type": "code",
   "execution_count": 48,
   "id": "19b6ca66",
   "metadata": {},
   "outputs": [],
   "source": [
    "#Replacing null values with -9\n",
    "df['REALIZE_NEED_TO_CHANGE_SOCIAL_CONNECTIONS_IN_PAST_30_DAYS'] = df['REALIZE_NEED_TO_CHANGE_SOCIAL_CONNECTIONS_IN_PAST_30_DAYS'].fillna(-9)\n",
    "\n",
    "#Creating function to create column ChangeConnectionsPlaces\n",
    "def Change_Connections_Places (x):\n",
    "    if x == 'Yes':\n",
    "        return 1\n",
    "    elif x == 'No':\n",
    "        return 0\n",
    "    elif x == -9:\n",
    "        return -9\n",
    "    elif x == 'REFUSED':\n",
    "        return -7\n",
    "    \n",
    "#Creating column ChangeConnectionsPlaces via applyigng function Change_Connections_Places (x)\n",
    "df['ChangeConnectionsPlaces'] = df['REALIZE_NEED_TO_CHANGE_SOCIAL_CONNECTIONS_IN_PAST_30_DAYS'].apply(lambda x:Change_Connections_Places (x))"
   ]
  },
  {
   "cell_type": "code",
   "execution_count": 49,
   "id": "11b6b8d2",
   "metadata": {},
   "outputs": [],
   "source": [
    "# creating function for the column ClientsPrivateInsurance\n",
    "def private_ins(row):\n",
    "    if row['TYPE_OF_INSURANCE'] == 'Private Insurance or Employer Provided':\n",
    "        return 1\n",
    "    else:\n",
    "        return 0\n",
    "    \n",
    "df['ClientsPrivateInsurance'] = df.apply(private_ins, axis = 1)"
   ]
  },
  {
   "cell_type": "code",
   "execution_count": 50,
   "id": "8197e25c",
   "metadata": {},
   "outputs": [],
   "source": [
    "# creating function for the column MedicaidOrMedicare\n",
    "def medicaid_medicare(row):\n",
    "    if row['TYPE_OF_INSURANCE']=='Medicare' or row['TYPE_OF_INSURANCE']== 'Medicaid':\n",
    "        return 1\n",
    "    else:\n",
    "        return 0\n",
    "    \n",
    "df['MedicaidOrMedicare'] = df.apply(medicaid_medicare, axis = 1)"
   ]
  },
  {
   "cell_type": "code",
   "execution_count": 51,
   "id": "fc299e93",
   "metadata": {},
   "outputs": [],
   "source": [
    "# creating function for the column SBIRTTricare\n",
    "def tricare(row):\n",
    "    if row['TYPE_OF_INSURANCE'] == 'TRICARE or other military health care':\n",
    "        return 1\n",
    "    else:\n",
    "        return 0\n",
    "df['SBIRTTricare'] = df.apply(tricare, axis = 1)"
   ]
  },
  {
   "cell_type": "code",
   "execution_count": 52,
   "id": "3cde1f1e",
   "metadata": {},
   "outputs": [],
   "source": [
    "# creating a function for the column SBIRTOther\n",
    "def sbirt_other(row):\n",
    "    if row['TYPE_OF_INSURANCE'] == 'Any other type of health insurance or health coverage plan (SPECIFY)':\n",
    "        return 1\n",
    "    else:\n",
    "        return 0\n",
    "    \n",
    "df['SBIRTOther'] = df.apply(sbirt_other, axis = 1)\n",
    "\n",
    "# creating a function for the column SBIRTOtherSpec\n",
    "def ins_other(row):\n",
    "    if row['SBIRTOther'] == 1:\n",
    "        return row['INSURANCE_OTHER']\n",
    "    else:\n",
    "        return ''\n",
    "df['SBIRTOtherSpec'] = df.apply(ins_other, axis = 1)"
   ]
  },
  {
   "cell_type": "code",
   "execution_count": 53,
   "id": "6d144825",
   "metadata": {},
   "outputs": [
    {
     "data": {
      "text/plain": [
       "array(['Medicare', nan, 'Private Insurance or Employer Provided',\n",
       "       'Medicaid'], dtype=object)"
      ]
     },
     "execution_count": 53,
     "metadata": {},
     "output_type": "execute_result"
    }
   ],
   "source": [
    "df['TYPE_OF_INSURANCE'].str.split(',').str[0].unique()"
   ]
  },
  {
   "cell_type": "code",
   "execution_count": 54,
   "id": "cca2bdb1",
   "metadata": {},
   "outputs": [],
   "source": [
    "# #Creating columns with missing values -1 for MAT-PDOA submissions \n",
    "# # df['CurrentSamhsaGrantFunding'] = -1\n",
    "# df['OtherFederalGrantFunding'] = -1\n",
    "# df['StateFunding'] = -1\n",
    "# # df['ClientsPrivateInsurance'] = -1 RESOLVED\n",
    "# # df['MedicaidOrMedicare'] = -1 RESOLVED\n",
    "# # df['SBIRTTricare'] = -9 RESOLVED\n",
    "# # df['SBIRTOther'] = -9 RESOLVED\n",
    "# # df['SBIRTOtherSpec'] = \" \"RESOLVED"
   ]
  },
  {
   "cell_type": "code",
   "execution_count": 55,
   "id": "b1c80d50",
   "metadata": {},
   "outputs": [
    {
     "data": {
      "text/plain": [
       "array(['Current SAMHSA grant funding', nan], dtype=object)"
      ]
     },
     "execution_count": 55,
     "metadata": {},
     "output_type": "execute_result"
    }
   ],
   "source": [
    "df['TYPE_OF_FUNDING_USED_TO_PAY_FOR_SBIRT_SERVICES'].unique()"
   ]
  },
  {
   "cell_type": "code",
   "execution_count": 56,
   "id": "b9d6c395",
   "metadata": {},
   "outputs": [],
   "source": [
    "# cleaning \n",
    "df['TREATMENT_SERVICES_PLANNED_1'] = df['TREATMENT_SERVICES_PLANNED'].str.split(',').str[0].str.strip()\n",
    "df['TREATMENT_SERVICES_PLANNED_2'] = df['TREATMENT_SERVICES_PLANNED'].str.split(',').str[1].str.strip()\n",
    "df['TREATMENT_SERVICES_PLANNED_3'] = df['TREATMENT_SERVICES_PLANNED'].str.split(',').str[2].str.strip()\n",
    "df['TREATMENT_SERVICES_PLANNED_4'] = df['TREATMENT_SERVICES_PLANNED'].str.split(',').str[3].str.strip()"
   ]
  },
  {
   "cell_type": "code",
   "execution_count": 57,
   "id": "8ad6c42b",
   "metadata": {},
   "outputs": [],
   "source": [
    "# creating code the for CurrentSamhsaGrantFunding columns\n",
    "def grant(row):\n",
    "    if row['TYPE_OF_FUNDING_USED_TO_PAY_FOR_SBIRT_SERVICES'] == 'Current SAMHSA grant funding':\n",
    "        return 1\n",
    "    elif row['TYPE_OF_FUNDING_USED_TO_PAY_FOR_SBIRT_SERVICES'] in ['Other federal grant funding','State funding',\n",
    "                                                                \"Client’s private insurance\",'Medicaid/Medicare',\n",
    "                                                                'Tricare','Other (specify)']:\n",
    "        return 0\n",
    "    else:\n",
    "        return -1 \n",
    "\n",
    "# returning formula above\n",
    "def screening_svcs (row):\n",
    "    if row['TREATMENT_SERVICES_PLANNED_1'] == '1. Screening' or row['TREATMENT_SERVICES_PLANNED_2'] == '1. Screening' or row['TREATMENT_SERVICES_PLANNED_3'] == '1. Screening' or row['TREATMENT_SERVICES_PLANNED_4'] == '1. Screening' and row['INTERVIEW_TYPE']=='Intake':\n",
    "        return grant(row)\n",
    "    else:\n",
    "        return -1\n",
    "    \n",
    "df['CurrentSamhsaGrantFunding'] = df.apply(screening_svcs, axis = 1)"
   ]
  },
  {
   "cell_type": "code",
   "execution_count": 58,
   "id": "6830eff2",
   "metadata": {},
   "outputs": [],
   "source": [
    "# creating code the for OtherFederalGrantFunding columns\n",
    "def grant(row):\n",
    "    if row['TYPE_OF_FUNDING_USED_TO_PAY_FOR_SBIRT_SERVICES'] == 'Other federal grant funding':\n",
    "        return 1\n",
    "    elif row['TYPE_OF_FUNDING_USED_TO_PAY_FOR_SBIRT_SERVICES'] in ['Current SAMHSA grant funding','State funding',\n",
    "                                                                \"Client’s private insurance\",'Medicaid/Medicare',\n",
    "                                                                'Tricare','Other (specify)']:\n",
    "        return 0\n",
    "    else:\n",
    "        return -1 \n",
    "\n",
    "# returning formula above\n",
    "def screening_svcs (row):\n",
    "    if row['TREATMENT_SERVICES_PLANNED_1'] == '1. Screening' or row['TREATMENT_SERVICES_PLANNED_2'] == '1. Screening' or row['TREATMENT_SERVICES_PLANNED_3'] == '1. Screening' or row['TREATMENT_SERVICES_PLANNED_4'] == '1. Screening' and row['INTERVIEW_TYPE']=='Intake':\n",
    "        return grant(row)\n",
    "    else:\n",
    "        return -1\n",
    "    \n",
    "df['OtherFederalGrantFunding'] = df.apply(screening_svcs, axis = 1)"
   ]
  },
  {
   "cell_type": "code",
   "execution_count": 59,
   "id": "93ff2e44",
   "metadata": {},
   "outputs": [],
   "source": [
    "# creating code the for StateFunding columns\n",
    "def state(row):\n",
    "    if row['TYPE_OF_FUNDING_USED_TO_PAY_FOR_SBIRT_SERVICES'] == 'State funding':\n",
    "        return 1\n",
    "    elif row['TYPE_OF_FUNDING_USED_TO_PAY_FOR_SBIRT_SERVICES'] in ['Current SAMHSA grant funding','Other federal grant funding',\n",
    "                                                                \"Client’s private insurance\",'Medicaid/Medicare',\n",
    "                                                                'Tricare','Other (specify)']:\n",
    "        return 0\n",
    "    else:\n",
    "        return -1 \n",
    "\n",
    "# returning formula above\n",
    "def screening_svcs (row):\n",
    "    if row['TREATMENT_SERVICES_PLANNED_1'] == '1. Screening' or row['TREATMENT_SERVICES_PLANNED_2'] == '1. Screening' or row['TREATMENT_SERVICES_PLANNED_3'] == '1. Screening' or row['TREATMENT_SERVICES_PLANNED_4'] == '1. Screening' and row['INTERVIEW_TYPE']=='Intake':\n",
    "        return state(row)\n",
    "    else:\n",
    "        return -1\n",
    "    \n",
    "df['StateFunding'] = df.apply(screening_svcs, axis = 1)"
   ]
  },
  {
   "cell_type": "code",
   "execution_count": 60,
   "id": "856971b9",
   "metadata": {},
   "outputs": [],
   "source": [
    "# creating code the for ClientsPrivateInsurance columns\n",
    "def private(row):\n",
    "    if row['TYPE_OF_FUNDING_USED_TO_PAY_FOR_SBIRT_SERVICES'] == \"Client’s private insurance\":\n",
    "        return 1\n",
    "    elif row['TYPE_OF_FUNDING_USED_TO_PAY_FOR_SBIRT_SERVICES'] in ['Current SAMHSA grant funding','Other federal grant funding',\n",
    "                                                                'State funding','Medicaid/Medicare','Tricare','Other (specify)']:\n",
    "        return 0\n",
    "    else:\n",
    "        return -1 \n",
    "\n",
    "# returning formula above\n",
    "def screening_svcs (row):\n",
    "    if row['TREATMENT_SERVICES_PLANNED_1'] == '1. Screening' or row['TREATMENT_SERVICES_PLANNED_2'] == '1. Screening' or row['TREATMENT_SERVICES_PLANNED_3'] == '1. Screening' or row['TREATMENT_SERVICES_PLANNED_4'] == '1. Screening' and row['INTERVIEW_TYPE']=='Intake':\n",
    "        return private(row)\n",
    "    else:\n",
    "        return -1\n",
    "    \n",
    "df['ClientsPrivateInsurance'] = df.apply(screening_svcs, axis = 1)"
   ]
  },
  {
   "cell_type": "code",
   "execution_count": 61,
   "id": "91a57edd",
   "metadata": {},
   "outputs": [],
   "source": [
    "# creating code the for MedicaidOrMedicare columns\n",
    "def medicare(row):\n",
    "    if row['TYPE_OF_FUNDING_USED_TO_PAY_FOR_SBIRT_SERVICES'] == 'Medicaid/Medicare':\n",
    "        return 1\n",
    "    elif row['TYPE_OF_FUNDING_USED_TO_PAY_FOR_SBIRT_SERVICES'] in ['Current SAMHSA grant funding','Other federal grant funding',\n",
    "                                                                'State funding',\"Client’s private insurance\",'Tricare','Other (specify)']:\n",
    "        return 0\n",
    "    else:\n",
    "        return -1 \n",
    "\n",
    "# returning formula above\n",
    "def screening_svcs (row):\n",
    "    if row['TREATMENT_SERVICES_PLANNED_1'] == '1. Screening' or row['TREATMENT_SERVICES_PLANNED_2'] == '1. Screening' or row['TREATMENT_SERVICES_PLANNED_3'] == '1. Screening' or row['TREATMENT_SERVICES_PLANNED_4'] == '1. Screening' and row['INTERVIEW_TYPE']=='Intake':\n",
    "        return medicare(row)\n",
    "    else:\n",
    "        return -1\n",
    "    \n",
    "df['MedicaidOrMedicare'] = df.apply(screening_svcs, axis = 1)"
   ]
  },
  {
   "cell_type": "code",
   "execution_count": 62,
   "id": "8fa2f7bd",
   "metadata": {},
   "outputs": [],
   "source": [
    "# creating code the for MedicaidOrMedicare columns\n",
    "def tricare(row):\n",
    "    if row['TYPE_OF_FUNDING_USED_TO_PAY_FOR_SBIRT_SERVICES'] == 'Tricare':\n",
    "        return 1\n",
    "    elif row['TYPE_OF_FUNDING_USED_TO_PAY_FOR_SBIRT_SERVICES'] in ['Current SAMHSA grant funding','Other federal grant funding',\n",
    "                                                                'State funding',\"Client’s private insurance\",'Medicaid/Medicare','Other (specify)']:\n",
    "        return 0\n",
    "    else:\n",
    "        return -1 \n",
    "\n",
    "# returning formula above\n",
    "def screening_svcs (row):\n",
    "    if row['TREATMENT_SERVICES_PLANNED_1'] == '1. Screening' or row['TREATMENT_SERVICES_PLANNED_2'] == '1. Screening' or row['TREATMENT_SERVICES_PLANNED_3'] == '1. Screening' or row['TREATMENT_SERVICES_PLANNED_4'] == '1. Screening' and row['INTERVIEW_TYPE']=='Intake':\n",
    "        return tricare(row)\n",
    "    else:\n",
    "        return -1\n",
    "    \n",
    "df['SBIRTTricare'] = df.apply(screening_svcs, axis = 1)"
   ]
  },
  {
   "cell_type": "code",
   "execution_count": 63,
   "id": "5fa815fc",
   "metadata": {},
   "outputs": [],
   "source": [
    "# creating code the for MedicaidOrMedicare columns\n",
    "def other(row):\n",
    "    if row['TYPE_OF_FUNDING_USED_TO_PAY_FOR_SBIRT_SERVICES'] == 'Other (specify)':\n",
    "        return 1\n",
    "    elif row['TYPE_OF_FUNDING_USED_TO_PAY_FOR_SBIRT_SERVICES'] in ['Tricare','Current SAMHSA grant funding','Other federal grant funding',\n",
    "                                                                'State funding',\"Client’s private insurance\",'Medicaid/Medicare']:\n",
    "        return 0\n",
    "    else:\n",
    "        return -1 \n",
    "\n",
    "# returning formula above\n",
    "def screening_svcs (row):\n",
    "    if row['TREATMENT_SERVICES_PLANNED_1'] == '1. Screening' or row['TREATMENT_SERVICES_PLANNED_2'] == '1. Screening' or row['TREATMENT_SERVICES_PLANNED_3'] == '1. Screening' or row['TREATMENT_SERVICES_PLANNED_4'] == '1. Screening' and row['INTERVIEW_TYPE']=='Intake':\n",
    "        return tricare(row)\n",
    "    else:\n",
    "        return -1\n",
    "    \n",
    "df['SBIRTOther'] = df.apply(screening_svcs, axis = 1)"
   ]
  },
  {
   "cell_type": "code",
   "execution_count": 64,
   "id": "2e4eb3da",
   "metadata": {},
   "outputs": [],
   "source": [
    "# creating code the for MedicaidOrMedicare columns\n",
    "def other_specify(row):\n",
    "    if row['SBIRTOther'] == 1:\n",
    "        return df['TYPE_OF_FUNDING_USED_TO_PAY_FOR_SBIRT_SERVICES_OTHER']\n",
    "    else:\n",
    "        pass\n",
    "    \n",
    "df['SBIRTOtherSpec'] = df.apply(other_specify, axis = 1)"
   ]
  },
  {
   "cell_type": "code",
   "execution_count": 65,
   "id": "eed3845e",
   "metadata": {},
   "outputs": [],
   "source": [
    "def client_screen(row):\n",
    "    if row['HOW_DID_CLIENT_SCREEN_ON_SBIRT'] == 'Positive':\n",
    "        return 1\n",
    "    elif row['HOW_DID_CLIENT_SCREEN_ON_SBIRT'] == 'Negative':\n",
    "        return 2\n",
    "    else:\n",
    "        return -1\n",
    "    \n",
    "    \n",
    "df['SBIRTClientScreen'] = df.apply(client_screen, axis = 1)"
   ]
  },
  {
   "cell_type": "code",
   "execution_count": 66,
   "id": "30daf0ab",
   "metadata": {},
   "outputs": [],
   "source": [
    "# creating dictionary object for renaming\n",
    "rename_SBIRT = {'AUDIT':'SBIRTScoreAUDIT',\n",
    "        'CAGE':'SBIRTScoreCAGE',\n",
    "        'DAST':'SBIRTScoreDAST',\n",
    "        'DAST-10':'SBIRTScoreDAST10',\n",
    "        'NIAAA_GUIDE':'SBIRTScoreNIAAA',\n",
    "        'ASSIST_ALCOHOL_SUBSCORE':'SBIRTScoreASSIST',\n",
    "        'OTHER_SBIRT_SCORE_1_NUM':'SBIRTScoreOther1',\n",
    "        'OTHER_SBIRT_SCORE_1':'SBIRTScoreOther1Spec',\n",
    "        'OTHER_SBIRT_SCORE_2_NUM':'SBIRTScoreOther2',\n",
    "        'OTHER_SBIRT_SCORE_2':'SBIRTScoreOther2Spec',\n",
    "        'OTHER_SBIRT_SCORE_3_NUM':'SBIRTScoreOther3',\n",
    "        'OTHER_SBIRT_SCORE_3':'SBIRTScoreOther3Spec'\n",
    "    }\n",
    "\n",
    "# renaming columns specified in rename_SBIRT dictionary object\n",
    "df.rename(columns = rename_SBIRT, inplace = True)"
   ]
  },
  {
   "cell_type": "code",
   "execution_count": 67,
   "id": "c7119455",
   "metadata": {},
   "outputs": [],
   "source": [
    "def intake_only(row):\n",
    "    if row['INTERVIEW_TYPE'] == 'Intake':\n",
    "        return row['SBIRTScoreAUDIT']\n",
    "    else:\n",
    "        return pd.NA\n",
    "df['SBIRTScoreAUDIT'] = df.apply(intake_only, axis = 1)"
   ]
  },
  {
   "cell_type": "code",
   "execution_count": 68,
   "id": "5ed72afd",
   "metadata": {},
   "outputs": [],
   "source": [
    "def intake_only(row):\n",
    "    if row['INTERVIEW_TYPE'] == 'Intake':\n",
    "        return row['SBIRTScoreCAGE']\n",
    "    else:\n",
    "        return pd.NA\n",
    "df['SBIRTScoreCAGE'] = df.apply(intake_only, axis = 1)"
   ]
  },
  {
   "cell_type": "code",
   "execution_count": 69,
   "id": "80148d54",
   "metadata": {},
   "outputs": [],
   "source": [
    "def intake_only(row):\n",
    "    if row['INTERVIEW_TYPE'] == 'Intake':\n",
    "        return row['SBIRTScoreDAST']\n",
    "    else:\n",
    "        return pd.NA\n",
    "df['SBIRTScoreDAST'] = df.apply(intake_only, axis = 1)"
   ]
  },
  {
   "cell_type": "code",
   "execution_count": 70,
   "id": "4d211a21",
   "metadata": {},
   "outputs": [],
   "source": [
    "def intake_only(row):\n",
    "    if row['INTERVIEW_TYPE'] == 'Intake':\n",
    "        return row['SBIRTScoreDAST10']\n",
    "    else:\n",
    "        return pd.NA\n",
    "df['SBIRTScoreDAST10'] = df.apply(intake_only, axis = 1)"
   ]
  },
  {
   "cell_type": "code",
   "execution_count": 71,
   "id": "e5cca219",
   "metadata": {},
   "outputs": [],
   "source": [
    "def intake_only(row):\n",
    "    if row['INTERVIEW_TYPE'] == 'Intake':\n",
    "        return row['SBIRTScoreNIAAA']\n",
    "    else:\n",
    "        return pd.NA\n",
    "df['SBIRTScoreNIAAA'] = df.apply(intake_only, axis = 1)"
   ]
  },
  {
   "cell_type": "code",
   "execution_count": 72,
   "id": "f10e8f33",
   "metadata": {},
   "outputs": [],
   "source": [
    "def intake_only(row):\n",
    "    if row['INTERVIEW_TYPE'] == 'Intake':\n",
    "        return row['SBIRTScoreASSIST']\n",
    "    else:\n",
    "        return pd.NA\n",
    "df['SBIRTScoreASSIST'] = df.apply(intake_only, axis = 1)"
   ]
  },
  {
   "cell_type": "code",
   "execution_count": 73,
   "id": "d2b45432",
   "metadata": {},
   "outputs": [],
   "source": [
    "def intake_only(row):\n",
    "    if row['INTERVIEW_TYPE'] == 'Intake':\n",
    "        return row['SBIRTScoreASSIST']\n",
    "    else:\n",
    "        return pd.NA\n",
    "df['SBIRTScoreASSIST'] = df.apply(intake_only, axis = 1)"
   ]
  },
  {
   "cell_type": "code",
   "execution_count": 74,
   "id": "6a5c1059",
   "metadata": {},
   "outputs": [],
   "source": [
    "def intake_only(row):\n",
    "    if row['INTERVIEW_TYPE'] == 'Intake':\n",
    "        return row['SBIRTScoreOther1']\n",
    "    else:\n",
    "        return pd.NA\n",
    "df['SBIRTScoreOther1'] = df.apply(intake_only, axis = 1)"
   ]
  },
  {
   "cell_type": "code",
   "execution_count": 75,
   "id": "97831e64",
   "metadata": {},
   "outputs": [],
   "source": [
    "def intake_only(row):\n",
    "    if row['INTERVIEW_TYPE'] == 'Intake':\n",
    "        return row['SBIRTScoreOther2']\n",
    "    else:\n",
    "        return pd.NA\n",
    "df['SBIRTScoreOther2'] = df.apply(intake_only, axis = 1)"
   ]
  },
  {
   "cell_type": "code",
   "execution_count": 76,
   "id": "e65427a5",
   "metadata": {},
   "outputs": [],
   "source": [
    "def intake_only(row):\n",
    "    if row['INTERVIEW_TYPE'] == 'Intake':\n",
    "        return row['SBIRTScoreOther3']\n",
    "    else:\n",
    "        return pd.NA\n",
    "df['SBIRTScoreOther3'] = df.apply(intake_only, axis = 1)"
   ]
  },
  {
   "cell_type": "code",
   "execution_count": 77,
   "id": "f99bfdcb",
   "metadata": {},
   "outputs": [],
   "source": [
    "def intake_only(row):\n",
    "    if row['INTERVIEW_TYPE'] == 'Intake':\n",
    "        return row['SBIRTScoreOther1Spec']\n",
    "    else:\n",
    "        return pd.NA\n",
    "df['SBIRTScoreOther1Spec'] = df.apply(intake_only, axis = 1)"
   ]
  },
  {
   "cell_type": "code",
   "execution_count": 78,
   "id": "1ee35488",
   "metadata": {},
   "outputs": [],
   "source": [
    "def intake_only(row):\n",
    "    if row['INTERVIEW_TYPE'] == 'Intake':\n",
    "        return row['SBIRTScoreOther2Spec']\n",
    "    else:\n",
    "        return pd.NA\n",
    "df['SBIRTScoreOther2Spec'] = df.apply(intake_only, axis = 1)"
   ]
  },
  {
   "cell_type": "code",
   "execution_count": 79,
   "id": "39c5d567",
   "metadata": {},
   "outputs": [],
   "source": [
    "def intake_only(row):\n",
    "    if row['INTERVIEW_TYPE'] == 'Intake':\n",
    "        return row['SBIRTScoreOther3Spec']\n",
    "    else:\n",
    "        return pd.NA\n",
    "df['SBIRTScoreOther3Spec'] = df.apply(intake_only, axis = 1)"
   ]
  },
  {
   "cell_type": "code",
   "execution_count": 80,
   "id": "a466eb2a",
   "metadata": {},
   "outputs": [],
   "source": [
    "# conditional statement to return values based on the SBIRT_SCREENING_SCORE column\n",
    "def score_other(row):\n",
    "    if row['SBIRT_SCREENING_SCORE'] == 'Other (SPECIFY)':\n",
    "        return row['SBIRTScoreOther1']\n",
    " \n",
    "df['SBIRTScoreOther1'] = df.apply(score_other, axis = 1)\n",
    "\n",
    "def score_other(row):\n",
    "    if row['SBIRT_SCREENING_SCORE'] == 'Other (SPECIFY)':\n",
    "        return row['SBIRTScoreOther1Spec']\n",
    " \n",
    "df['SBIRTScoreOther1Spec'] = df.apply(score_other, axis = 1)\n",
    "\n",
    "\n",
    "\n",
    "# conditional statement to return values based on the SBIRT_SCREENING_SCORE column\n",
    "def score_other_2(row):\n",
    "    if row['SBIRT_SCREENING_SCORE'] == 'Other (SPECIFY)':\n",
    "        return row['SBIRTScoreOther2']\n",
    " \n",
    "df['SBIRTScoreOther2'] = df.apply(score_other_2, axis = 1)\n",
    "\n",
    "def score_other_2(row):\n",
    "    if row['SBIRT_SCREENING_SCORE'] == 'Other (SPECIFY)':\n",
    "        return row['SBIRTScoreOther2Spec']\n",
    " \n",
    "df['SBIRTScoreOther2Spec'] = df.apply(score_other_2, axis = 1)\n",
    "\n",
    "\n",
    "# conditional statement to return values based on the SBIRT_SCREENING_SCORE column\n",
    "def score_other_3(row):\n",
    "    if row['SBIRT_SCREENING_SCORE'] == 'Other (SPECIFY)':\n",
    "        return row['SBIRTScoreOther3']\n",
    " \n",
    "df['SBIRTScoreOther3'] = df.apply(score_other_3, axis = 1)\n",
    "\n",
    "def score_other_3(row):\n",
    "    if row['SBIRT_SCREENING_SCORE'] == 'Other (SPECIFY)':\n",
    "        return row['SBIRTScoreOther3Spec']\n",
    " \n",
    "df['SBIRTScoreOther3Spec'] = df.apply(score_other_3, axis = 1)"
   ]
  },
  {
   "cell_type": "code",
   "execution_count": 81,
   "id": "58dbdaae",
   "metadata": {},
   "outputs": [],
   "source": [
    "# cleaning column with multiple inputs\n",
    "df['CLIENT_WILLING_TO_CONTINUE_SBIRT_SERVICES'] = df['CLIENT_WILLING_TO_CONTINUE_SBIRT_SERVICES'].str.split(',').str[0]\n",
    "\n",
    "# creating function for the column SBIRTContService\n",
    "\n",
    "def continue_svcs (row):\n",
    "    if row['CLIENT_WILLING_TO_CONTINUE_SBIRT_SERVICES'] == 'Yes':\n",
    "        return 1\n",
    "    elif row['CLIENT_WILLING_TO_CONTINUE_SBIRT_SERVICES'] == 'No':\n",
    "        return 0\n",
    "    else:\n",
    "        return -1\n",
    "    \n",
    "def conditional (row):\n",
    "    if row['TREATMENT_SERVICES_PLANNED_1'] in ['2.Brief Intervention','3. Brief Treatment','4. Referral to Treatment'] or row['TREATMENT_SERVICES_PLANNED_2'] in ['2. Brief Intervention','3. Brief Treatment','4. Referral to Treatment'] or row['TREATMENT_SERVICES_PLANNED_3'] in ['2. Brief Intervention','3. Brief Treatment','4. Referral to Treatment'] or row['TREATMENT_SERVICES_PLANNED_4'] in ['2. Brief Intervention','3. Brief Treatment','4. Referral to Treatment'] and row['INTERVIEW_TYPE'] == 'Intake':\n",
    "        return continue_svcs(row)\n",
    "    else:\n",
    "        return -1\n",
    "    \n",
    "df['SBIRTContService'] = df.apply(conditional,axis = 1)\n",
    "\n",
    "\n",
    "def intake_only(row):\n",
    "    if row['INTERVIEW_TYPE'] == 'Intake':\n",
    "        return row['SBIRTContService']\n",
    "    else:\n",
    "        return -1\n",
    "    \n",
    "df['SBIRTContService'] = df.apply(intake_only, axis = 1)\n"
   ]
  },
  {
   "cell_type": "code",
   "execution_count": 82,
   "id": "414c2821",
   "metadata": {},
   "outputs": [
    {
     "data": {
      "text/plain": [
       "array(['2. Brief Intervention', nan], dtype=object)"
      ]
     },
     "execution_count": 82,
     "metadata": {},
     "output_type": "execute_result"
    }
   ],
   "source": [
    "df['TREATMENT_SERVICES_PLANNED_2'].unique()"
   ]
  },
  {
   "cell_type": "code",
   "execution_count": 83,
   "id": "caeb372c",
   "metadata": {},
   "outputs": [],
   "source": [
    "#creating dictionary object for renaming\n",
    "rename_treatment = {\n",
    "    'ASSIGNED_BRIEF_INTERVENTION':'BriefInterventionAssigned',\n",
    "    'ASSIGNED_BRIEF_TREATMENT':'BriefTreatmentAssigned',\n",
    "    'ASSIGNED_REFERRAL_TO_TREATMENT':'ReferralToTreatmentAssigned',\n",
    "    'RECEIVED_BRIEF_INTERVENTION':'BriefIntervention',\n",
    "    'RECEIVED_BRIEF_TREATMENT':'BriefTreatment',\n",
    "    'RECEIVED_REFERRAL_TO_TREATMENT':'ReferralToTreatment',\n",
    "    'TYPE_OF_SBIRT_INTERVIEW':'SBIRTclasscode'\n",
    "}\n",
    "\n",
    "df.rename(columns = rename_treatment, inplace = True)"
   ]
  },
  {
   "cell_type": "code",
   "execution_count": 84,
   "id": "6d9d9fe8",
   "metadata": {},
   "outputs": [],
   "source": [
    "# cleaning column to return coded outputs\n",
    "df['SBIRTclasscode'] = df['SBIRTclasscode'].str[0:2]"
   ]
  },
  {
   "cell_type": "markdown",
   "id": "58009851",
   "metadata": {},
   "source": [
    "## Exporting GPRA 5"
   ]
  },
  {
   "cell_type": "code",
   "execution_count": 85,
   "id": "de58ca36",
   "metadata": {
    "scrolled": true
   },
   "outputs": [],
   "source": [
    "#Creating variable for GPRA 5\n",
    "GPRA5_SBIRT = df[['ClientID',\t'SchoolOrTrainingProgram',\t'Education',\t'EducationSpec',\n",
    "                     'EmployStatus',\t'EmployStatusSpec',\t'Employment',\t'EnoughMoneyFood',\t'EnoughMoneyClothing',\n",
    "                     'EnoughMoneyTransport',\t'EnoughMoneyRentHousing',\t'EnoughMoneyUtilities',\t'EnoughMoneyPhone',\n",
    "                     'EnoughMoneyChildcare',\t'EnoughMoneyHealthIns',\t'Income',\t'ArrestedDays',\t'Incarcerated',\n",
    "                     'AwaitTrial',\t'ParoleProb',\t'DrugCourtDeferredProsec',\t'LifeQuality',\t'Depression',\t'Anxiety',\n",
    "                     'Hallucinations',\t'BrainFunction',\t'ViolentBehavior',\t'Suicide',\t'PsycholEmotMedication',\n",
    "                     'PsycholEmotImpact',\t'ReceivedMedCarePCP',\t'ReceivedMedCareUrgentCare',\t'ReceivedMedCareED',\n",
    "                     'ReceivedMedCareSpecialist',\t'ReceivedMedCareNoCareSought',\t'ReceivedMedCareOther',\n",
    "                     'ReceivedMedCareSpec',\t'MedInsuranceStatus',\t'MedInsTypeMedicare',\t'MedInsTypeMedicaid',\n",
    "                     'MedInsTypePrivateOrEmployer',\t'MedInsTypeMilitary',\t'MedInsTypeAssistanceProgram',\n",
    "                     'MedInsTypeOther',\t'MedInsTypeSpec',\t'AttendVoluntary',\t'AttendVoluntaryTimes',\n",
    "                     'InteractFamilyFriends',\t'RelationshipSatisfaction',\t'ChangeConnectionsPlaces',\t\n",
    "                     'CurrentSamhsaGrantFunding',\t'OtherFederalGrantFunding',\t'StateFunding',\t'ClientsPrivateInsurance',\n",
    "                     'MedicaidOrMedicare',\t'SBIRTTricare',\t'SBIRTOther',\t'SBIRTOtherSpec',\t'SBIRTClientScreen',\n",
    "                     'SBIRTScoreAUDIT',\t'SBIRTScoreCAGE',\t'SBIRTScoreDAST',\t'SBIRTScoreDAST10',\t'SBIRTScoreNIAAA',\n",
    "                     'SBIRTScoreASSIST',\t'SBIRTScoreOther1',\t'SBIRTScoreOther1Spec',\t'SBIRTScoreOther2',\n",
    "                     'SBIRTScoreOther2Spec',\t'SBIRTScoreOther3',\t'SBIRTScoreOther3Spec',\t'SBIRTContService',\n",
    "                     'BriefInterventionAssigned',\t'BriefTreatmentAssigned',\t'ReferralToTreatmentAssigned',\n",
    "                     'BriefIntervention',\t'BriefTreatment',\t'ReferralToTreatment',\t'SBIRTclasscode']]\n",
    "\n",
    "#Exporting GPRA 5\n",
    "GPRA5_SBIRT.to_csv('GPRA5_SBIRT.csv', index = False, header = True, encoding = 'utf-8')"
   ]
  }
 ],
 "metadata": {
  "kernelspec": {
   "display_name": "Python 3 (ipykernel)",
   "language": "python",
   "name": "python3"
  },
  "language_info": {
   "codemirror_mode": {
    "name": "ipython",
    "version": 3
   },
   "file_extension": ".py",
   "mimetype": "text/x-python",
   "name": "python",
   "nbconvert_exporter": "python",
   "pygments_lexer": "ipython3",
   "version": "3.11.4"
  }
 },
 "nbformat": 4,
 "nbformat_minor": 5
}
